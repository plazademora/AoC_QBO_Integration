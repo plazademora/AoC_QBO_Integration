{
 "cells": [
  {
   "cell_type": "code",
   "execution_count": 25,
   "id": "8c921154",
   "metadata": {},
   "outputs": [],
   "source": [
    "import pandas as pd\n",
    "import json\n",
    "\n",
    "with open(\"ProfitAndLoss.json\") as f:\n",
    "    rawdata = json.load(f)"
   ]
  },
  {
   "cell_type": "markdown",
   "id": "a7ccee59",
   "metadata": {},
   "source": [
    "# Stepping through control flow of parse_json()"
   ]
  },
  {
   "cell_type": "markdown",
   "id": "8cd4e63a",
   "metadata": {},
   "source": [
    "### Step 1\n",
    "`>>> parse_json(rawdata)`"
   ]
  },
  {
   "cell_type": "code",
   "execution_count": 2,
   "id": "5b2f6931",
   "metadata": {},
   "outputs": [
    {
     "data": {
      "text/html": [
       "<div>\n",
       "<style scoped>\n",
       "    .dataframe tbody tr th:only-of-type {\n",
       "        vertical-align: middle;\n",
       "    }\n",
       "\n",
       "    .dataframe tbody tr th {\n",
       "        vertical-align: top;\n",
       "    }\n",
       "\n",
       "    .dataframe thead th {\n",
       "        text-align: right;\n",
       "    }\n",
       "</style>\n",
       "<table border=\"1\" class=\"dataframe\">\n",
       "  <thead>\n",
       "    <tr style=\"text-align: right;\">\n",
       "      <th></th>\n",
       "      <th>Header.Time</th>\n",
       "      <th>Header.ReportName</th>\n",
       "      <th>Header.DateMacro</th>\n",
       "      <th>Header.ReportBasis</th>\n",
       "      <th>Header.StartPeriod</th>\n",
       "      <th>Header.EndPeriod</th>\n",
       "      <th>Header.SummarizeColumnsBy</th>\n",
       "      <th>Header.Currency</th>\n",
       "      <th>Header.Option</th>\n",
       "      <th>Columns.Column</th>\n",
       "      <th>Rows.Row</th>\n",
       "    </tr>\n",
       "  </thead>\n",
       "  <tbody>\n",
       "    <tr>\n",
       "      <th>0</th>\n",
       "      <td>2021-06-07T12:55:08-07:00</td>\n",
       "      <td>ProfitAndLoss</td>\n",
       "      <td>this fiscal year-to-date</td>\n",
       "      <td>Accrual</td>\n",
       "      <td>2020-07-01</td>\n",
       "      <td>2021-06-07</td>\n",
       "      <td>Total</td>\n",
       "      <td>USD</td>\n",
       "      <td>[{'Name': 'AccountingStandard', 'Value': 'GAAP...</td>\n",
       "      <td>[{'ColTitle': '', 'ColType': 'Account', 'MetaD...</td>\n",
       "      <td>[{'Header': {'ColData': [{'value': 'Income'}, ...</td>\n",
       "    </tr>\n",
       "  </tbody>\n",
       "</table>\n",
       "</div>"
      ],
      "text/plain": [
       "                 Header.Time Header.ReportName          Header.DateMacro  \\\n",
       "0  2021-06-07T12:55:08-07:00     ProfitAndLoss  this fiscal year-to-date   \n",
       "\n",
       "  Header.ReportBasis Header.StartPeriod Header.EndPeriod  \\\n",
       "0            Accrual         2020-07-01       2021-06-07   \n",
       "\n",
       "  Header.SummarizeColumnsBy Header.Currency  \\\n",
       "0                     Total             USD   \n",
       "\n",
       "                                       Header.Option  \\\n",
       "0  [{'Name': 'AccountingStandard', 'Value': 'GAAP...   \n",
       "\n",
       "                                      Columns.Column  \\\n",
       "0  [{'ColTitle': '', 'ColType': 'Account', 'MetaD...   \n",
       "\n",
       "                                            Rows.Row  \n",
       "0  [{'Header': {'ColData': [{'value': 'Income'}, ...  "
      ]
     },
     "execution_count": 2,
     "metadata": {},
     "output_type": "execute_result"
    }
   ],
   "source": [
    "pd.json_normalize(rawdata)"
   ]
  },
  {
   "cell_type": "markdown",
   "id": "84a6999f",
   "metadata": {},
   "source": [
    "output: Pandas Data Frame  \n",
    "control flow next:  \n",
    "` data = pd.json_normalize(data) `  \n",
    "` parse_json(data) `"
   ]
  },
  {
   "cell_type": "code",
   "execution_count": 3,
   "id": "02997189",
   "metadata": {},
   "outputs": [],
   "source": [
    "data = pd.json_normalize(rawdata)"
   ]
  },
  {
   "cell_type": "markdown",
   "id": "6ec642e2",
   "metadata": {},
   "source": [
    "### Step 2"
   ]
  },
  {
   "cell_type": "markdown",
   "id": "184178cd",
   "metadata": {},
   "source": [
    "Passes `isinstance(data, dict)`, moves on to   \n",
    "`elif instance(data, pandas.core.frame.DataFrame)` and returns true"
   ]
  },
  {
   "cell_type": "markdown",
   "id": "1580dab2",
   "metadata": {},
   "source": [
    "enters the `for` loop, tries    \n",
    "`pd.json_normalize(data['Rows.Row'][0])`"
   ]
  },
  {
   "cell_type": "markdown",
   "id": "578b8b75",
   "metadata": {},
   "source": [
    "assigns `row_norm` to output:"
   ]
  },
  {
   "cell_type": "code",
   "execution_count": 4,
   "id": "45db157e",
   "metadata": {},
   "outputs": [
    {
     "data": {
      "text/html": [
       "<div>\n",
       "<style scoped>\n",
       "    .dataframe tbody tr th:only-of-type {\n",
       "        vertical-align: middle;\n",
       "    }\n",
       "\n",
       "    .dataframe tbody tr th {\n",
       "        vertical-align: top;\n",
       "    }\n",
       "\n",
       "    .dataframe thead th {\n",
       "        text-align: right;\n",
       "    }\n",
       "</style>\n",
       "<table border=\"1\" class=\"dataframe\">\n",
       "  <thead>\n",
       "    <tr style=\"text-align: right;\">\n",
       "      <th></th>\n",
       "      <th>type</th>\n",
       "      <th>group</th>\n",
       "      <th>Header.ColData</th>\n",
       "      <th>Rows.Row</th>\n",
       "      <th>Summary.ColData</th>\n",
       "    </tr>\n",
       "  </thead>\n",
       "  <tbody>\n",
       "    <tr>\n",
       "      <th>0</th>\n",
       "      <td>Section</td>\n",
       "      <td>Income</td>\n",
       "      <td>[{'value': 'Income'}, {'value': ''}]</td>\n",
       "      <td>[{'Header': {'ColData': [{'value': '3000 Sunda...</td>\n",
       "      <td>[{'value': 'Total Income'}, {'value': '6036637...</td>\n",
       "    </tr>\n",
       "    <tr>\n",
       "      <th>1</th>\n",
       "      <td>Section</td>\n",
       "      <td>GrossProfit</td>\n",
       "      <td>NaN</td>\n",
       "      <td>NaN</td>\n",
       "      <td>[{'value': 'Gross Profit'}, {'value': '6036637...</td>\n",
       "    </tr>\n",
       "    <tr>\n",
       "      <th>2</th>\n",
       "      <td>Section</td>\n",
       "      <td>Expenses</td>\n",
       "      <td>[{'value': 'Expenses'}, {'value': ''}]</td>\n",
       "      <td>[{'Header': {'ColData': [{'value': '4010 Salar...</td>\n",
       "      <td>[{'value': 'Total Expenses'}, {'value': '55455...</td>\n",
       "    </tr>\n",
       "    <tr>\n",
       "      <th>3</th>\n",
       "      <td>Section</td>\n",
       "      <td>NetOperatingIncome</td>\n",
       "      <td>NaN</td>\n",
       "      <td>NaN</td>\n",
       "      <td>[{'value': 'Net Operating Income'}, {'value': ...</td>\n",
       "    </tr>\n",
       "    <tr>\n",
       "      <th>4</th>\n",
       "      <td>Section</td>\n",
       "      <td>OtherIncome</td>\n",
       "      <td>[{'value': 'Other Income'}, {'value': ''}]</td>\n",
       "      <td>[{'Header': {'ColData': [{'value': '5000 Insur...</td>\n",
       "      <td>[{'value': 'Total Other Income'}, {'value': '7...</td>\n",
       "    </tr>\n",
       "    <tr>\n",
       "      <th>5</th>\n",
       "      <td>Section</td>\n",
       "      <td>OtherExpenses</td>\n",
       "      <td>[{'value': 'Other Expenses'}, {'value': ''}]</td>\n",
       "      <td>[{'Header': {'ColData': [{'value': '6010 Share...</td>\n",
       "      <td>[{'value': 'Total Other Expenses'}, {'value': ...</td>\n",
       "    </tr>\n",
       "    <tr>\n",
       "      <th>6</th>\n",
       "      <td>Section</td>\n",
       "      <td>NetOtherIncome</td>\n",
       "      <td>NaN</td>\n",
       "      <td>NaN</td>\n",
       "      <td>[{'value': 'Net Other Income'}, {'value': '-17...</td>\n",
       "    </tr>\n",
       "    <tr>\n",
       "      <th>7</th>\n",
       "      <td>Section</td>\n",
       "      <td>NetIncome</td>\n",
       "      <td>NaN</td>\n",
       "      <td>NaN</td>\n",
       "      <td>[{'value': 'Net Income'}, {'value': '473846.67'}]</td>\n",
       "    </tr>\n",
       "  </tbody>\n",
       "</table>\n",
       "</div>"
      ],
      "text/plain": [
       "      type               group                                Header.ColData  \\\n",
       "0  Section              Income          [{'value': 'Income'}, {'value': ''}]   \n",
       "1  Section         GrossProfit                                           NaN   \n",
       "2  Section            Expenses        [{'value': 'Expenses'}, {'value': ''}]   \n",
       "3  Section  NetOperatingIncome                                           NaN   \n",
       "4  Section         OtherIncome    [{'value': 'Other Income'}, {'value': ''}]   \n",
       "5  Section       OtherExpenses  [{'value': 'Other Expenses'}, {'value': ''}]   \n",
       "6  Section      NetOtherIncome                                           NaN   \n",
       "7  Section           NetIncome                                           NaN   \n",
       "\n",
       "                                            Rows.Row  \\\n",
       "0  [{'Header': {'ColData': [{'value': '3000 Sunda...   \n",
       "1                                                NaN   \n",
       "2  [{'Header': {'ColData': [{'value': '4010 Salar...   \n",
       "3                                                NaN   \n",
       "4  [{'Header': {'ColData': [{'value': '5000 Insur...   \n",
       "5  [{'Header': {'ColData': [{'value': '6010 Share...   \n",
       "6                                                NaN   \n",
       "7                                                NaN   \n",
       "\n",
       "                                     Summary.ColData  \n",
       "0  [{'value': 'Total Income'}, {'value': '6036637...  \n",
       "1  [{'value': 'Gross Profit'}, {'value': '6036637...  \n",
       "2  [{'value': 'Total Expenses'}, {'value': '55455...  \n",
       "3  [{'value': 'Net Operating Income'}, {'value': ...  \n",
       "4  [{'value': 'Total Other Income'}, {'value': '7...  \n",
       "5  [{'value': 'Total Other Expenses'}, {'value': ...  \n",
       "6  [{'value': 'Net Other Income'}, {'value': '-17...  \n",
       "7  [{'value': 'Net Income'}, {'value': '473846.67'}]  "
      ]
     },
     "execution_count": 4,
     "metadata": {},
     "output_type": "execute_result"
    }
   ],
   "source": [
    "pd.json_normalize(data['Rows.Row'][0])"
   ]
  },
  {
   "cell_type": "code",
   "execution_count": 5,
   "id": "7c9e3acf",
   "metadata": {},
   "outputs": [],
   "source": [
    "row_norm = pd.json_normalize(data['Rows.Row'][0])"
   ]
  },
  {
   "cell_type": "markdown",
   "id": "a152c035",
   "metadata": {},
   "source": [
    "Because there is a `'Rows.Row'` column in the resulting `row_norm` df, it calls itself again"
   ]
  },
  {
   "cell_type": "markdown",
   "id": "d4822735",
   "metadata": {},
   "source": [
    "### Step 3"
   ]
  },
  {
   "cell_type": "markdown",
   "id": "6b2a6d12",
   "metadata": {},
   "source": [
    "`row_norm` is normalized again and stored as `row_norm`"
   ]
  },
  {
   "cell_type": "markdown",
   "id": "b7a50fe0",
   "metadata": {},
   "source": [
    "**BUT** the function is still in the first iteration of the first loop (from step 2)... so it does a recursion, but the function call from step 2 is still open, with several iterations still left to do (the remainder of the rows in the Step 2 data frame that have unormalized stuff in the 'Rows.Row' column)"
   ]
  },
  {
   "cell_type": "code",
   "execution_count": 6,
   "id": "5d42ea36",
   "metadata": {
    "scrolled": true
   },
   "outputs": [
    {
     "data": {
      "text/html": [
       "<div>\n",
       "<style scoped>\n",
       "    .dataframe tbody tr th:only-of-type {\n",
       "        vertical-align: middle;\n",
       "    }\n",
       "\n",
       "    .dataframe tbody tr th {\n",
       "        vertical-align: top;\n",
       "    }\n",
       "\n",
       "    .dataframe thead th {\n",
       "        text-align: right;\n",
       "    }\n",
       "</style>\n",
       "<table border=\"1\" class=\"dataframe\">\n",
       "  <thead>\n",
       "    <tr style=\"text-align: right;\">\n",
       "      <th></th>\n",
       "      <th>type</th>\n",
       "      <th>Header.ColData</th>\n",
       "      <th>Rows.Row</th>\n",
       "      <th>Summary.ColData</th>\n",
       "      <th>ColData</th>\n",
       "    </tr>\n",
       "  </thead>\n",
       "  <tbody>\n",
       "    <tr>\n",
       "      <th>0</th>\n",
       "      <td>Section</td>\n",
       "      <td>[{'value': '3000 Sunday and Holy Day Collectio...</td>\n",
       "      <td>[{'Header': {'ColData': [{'value': '3011 Sunda...</td>\n",
       "      <td>[{'value': 'Total 3000 Sunday and Holy Day Col...</td>\n",
       "      <td>NaN</td>\n",
       "    </tr>\n",
       "    <tr>\n",
       "      <th>1</th>\n",
       "      <td>Data</td>\n",
       "      <td>NaN</td>\n",
       "      <td>NaN</td>\n",
       "      <td>NaN</td>\n",
       "      <td>[{'value': '3020 Christmas Collection', 'id': ...</td>\n",
       "    </tr>\n",
       "    <tr>\n",
       "      <th>2</th>\n",
       "      <td>Data</td>\n",
       "      <td>NaN</td>\n",
       "      <td>NaN</td>\n",
       "      <td>NaN</td>\n",
       "      <td>[{'value': '3030 Easter Collection', 'id': '11...</td>\n",
       "    </tr>\n",
       "    <tr>\n",
       "      <th>3</th>\n",
       "      <td>Section</td>\n",
       "      <td>[{'value': '3040 Other Collections', 'id': '11...</td>\n",
       "      <td>[{'ColData': [{'value': '3042 Flowers Collecti...</td>\n",
       "      <td>[{'value': 'Total 3040 Other Collections'}, {'...</td>\n",
       "      <td>NaN</td>\n",
       "    </tr>\n",
       "    <tr>\n",
       "      <th>4</th>\n",
       "      <td>Section</td>\n",
       "      <td>[{'value': '3100 Tuition', 'id': '392'}, {'val...</td>\n",
       "      <td>[{'ColData': [{'value': '3101 Tuition - Curren...</td>\n",
       "      <td>[{'value': 'Total 3100 Tuition'}, {'value': '3...</td>\n",
       "      <td>NaN</td>\n",
       "    </tr>\n",
       "    <tr>\n",
       "      <th>5</th>\n",
       "      <td>Section</td>\n",
       "      <td>[{'value': '3110 Fees', 'id': '28'}, {'value':...</td>\n",
       "      <td>[{'ColData': [{'value': '3111 Registration Fee...</td>\n",
       "      <td>[{'value': 'Total 3110 Fees'}, {'value': '4753...</td>\n",
       "      <td>NaN</td>\n",
       "    </tr>\n",
       "    <tr>\n",
       "      <th>6</th>\n",
       "      <td>Section</td>\n",
       "      <td>[{'value': '3300 Food Services', 'id': '36'}, ...</td>\n",
       "      <td>[{'ColData': [{'value': '3301 School Meal Prog...</td>\n",
       "      <td>[{'value': 'Total 3300 Food Services'}, {'valu...</td>\n",
       "      <td>NaN</td>\n",
       "    </tr>\n",
       "    <tr>\n",
       "      <th>7</th>\n",
       "      <td>Section</td>\n",
       "      <td>[{'value': '3350 Lease and/or Rental Income', ...</td>\n",
       "      <td>[{'ColData': [{'value': '3351 Facility Lease',...</td>\n",
       "      <td>[{'value': 'Total 3350 Lease and/or Rental Inc...</td>\n",
       "      <td>NaN</td>\n",
       "    </tr>\n",
       "    <tr>\n",
       "      <th>8</th>\n",
       "      <td>Section</td>\n",
       "      <td>[{'value': '3400 Outside Funding Sources', 'id...</td>\n",
       "      <td>[{'Header': {'ColData': [{'value': '3407 Other...</td>\n",
       "      <td>[{'value': 'Total 3400 Outside Funding Sources...</td>\n",
       "      <td>NaN</td>\n",
       "    </tr>\n",
       "    <tr>\n",
       "      <th>9</th>\n",
       "      <td>Section</td>\n",
       "      <td>[{'value': '3450 Fund Raising Net Income', 'id...</td>\n",
       "      <td>[{'Header': {'ColData': [{'value': '3461 St. J...</td>\n",
       "      <td>[{'value': 'Total 3450 Fund Raising Net Income...</td>\n",
       "      <td>NaN</td>\n",
       "    </tr>\n",
       "    <tr>\n",
       "      <th>10</th>\n",
       "      <td>Section</td>\n",
       "      <td>[{'value': '3500 Interest &amp; Investment Income'...</td>\n",
       "      <td>[{'ColData': [{'value': '3501 Interest-Arch Re...</td>\n",
       "      <td>[{'value': 'Total 3500 Interest &amp; Investment I...</td>\n",
       "      <td>NaN</td>\n",
       "    </tr>\n",
       "    <tr>\n",
       "      <th>11</th>\n",
       "      <td>Section</td>\n",
       "      <td>[{'value': '3600 Auxiliary Groups', 'id': '149...</td>\n",
       "      <td>[{'Header': {'ColData': [{'value': '3603 St Fr...</td>\n",
       "      <td>[{'value': 'Total 3600 Auxiliary Groups'}, {'v...</td>\n",
       "      <td>NaN</td>\n",
       "    </tr>\n",
       "    <tr>\n",
       "      <th>12</th>\n",
       "      <td>Section</td>\n",
       "      <td>[{'value': '3700 Miscellaneous Income', 'id': ...</td>\n",
       "      <td>[{'Header': {'ColData': [{'value': '3701 Stole...</td>\n",
       "      <td>[{'value': 'Total 3700 Miscellaneous Income'},...</td>\n",
       "      <td>NaN</td>\n",
       "    </tr>\n",
       "  </tbody>\n",
       "</table>\n",
       "</div>"
      ],
      "text/plain": [
       "       type                                     Header.ColData  \\\n",
       "0   Section  [{'value': '3000 Sunday and Holy Day Collectio...   \n",
       "1      Data                                                NaN   \n",
       "2      Data                                                NaN   \n",
       "3   Section  [{'value': '3040 Other Collections', 'id': '11...   \n",
       "4   Section  [{'value': '3100 Tuition', 'id': '392'}, {'val...   \n",
       "5   Section  [{'value': '3110 Fees', 'id': '28'}, {'value':...   \n",
       "6   Section  [{'value': '3300 Food Services', 'id': '36'}, ...   \n",
       "7   Section  [{'value': '3350 Lease and/or Rental Income', ...   \n",
       "8   Section  [{'value': '3400 Outside Funding Sources', 'id...   \n",
       "9   Section  [{'value': '3450 Fund Raising Net Income', 'id...   \n",
       "10  Section  [{'value': '3500 Interest & Investment Income'...   \n",
       "11  Section  [{'value': '3600 Auxiliary Groups', 'id': '149...   \n",
       "12  Section  [{'value': '3700 Miscellaneous Income', 'id': ...   \n",
       "\n",
       "                                             Rows.Row  \\\n",
       "0   [{'Header': {'ColData': [{'value': '3011 Sunda...   \n",
       "1                                                 NaN   \n",
       "2                                                 NaN   \n",
       "3   [{'ColData': [{'value': '3042 Flowers Collecti...   \n",
       "4   [{'ColData': [{'value': '3101 Tuition - Curren...   \n",
       "5   [{'ColData': [{'value': '3111 Registration Fee...   \n",
       "6   [{'ColData': [{'value': '3301 School Meal Prog...   \n",
       "7   [{'ColData': [{'value': '3351 Facility Lease',...   \n",
       "8   [{'Header': {'ColData': [{'value': '3407 Other...   \n",
       "9   [{'Header': {'ColData': [{'value': '3461 St. J...   \n",
       "10  [{'ColData': [{'value': '3501 Interest-Arch Re...   \n",
       "11  [{'Header': {'ColData': [{'value': '3603 St Fr...   \n",
       "12  [{'Header': {'ColData': [{'value': '3701 Stole...   \n",
       "\n",
       "                                      Summary.ColData  \\\n",
       "0   [{'value': 'Total 3000 Sunday and Holy Day Col...   \n",
       "1                                                 NaN   \n",
       "2                                                 NaN   \n",
       "3   [{'value': 'Total 3040 Other Collections'}, {'...   \n",
       "4   [{'value': 'Total 3100 Tuition'}, {'value': '3...   \n",
       "5   [{'value': 'Total 3110 Fees'}, {'value': '4753...   \n",
       "6   [{'value': 'Total 3300 Food Services'}, {'valu...   \n",
       "7   [{'value': 'Total 3350 Lease and/or Rental Inc...   \n",
       "8   [{'value': 'Total 3400 Outside Funding Sources...   \n",
       "9   [{'value': 'Total 3450 Fund Raising Net Income...   \n",
       "10  [{'value': 'Total 3500 Interest & Investment I...   \n",
       "11  [{'value': 'Total 3600 Auxiliary Groups'}, {'v...   \n",
       "12  [{'value': 'Total 3700 Miscellaneous Income'},...   \n",
       "\n",
       "                                              ColData  \n",
       "0                                                 NaN  \n",
       "1   [{'value': '3020 Christmas Collection', 'id': ...  \n",
       "2   [{'value': '3030 Easter Collection', 'id': '11...  \n",
       "3                                                 NaN  \n",
       "4                                                 NaN  \n",
       "5                                                 NaN  \n",
       "6                                                 NaN  \n",
       "7                                                 NaN  \n",
       "8                                                 NaN  \n",
       "9                                                 NaN  \n",
       "10                                                NaN  \n",
       "11                                                NaN  \n",
       "12                                                NaN  "
      ]
     },
     "execution_count": 6,
     "metadata": {},
     "output_type": "execute_result"
    }
   ],
   "source": [
    "pd.json_normalize(row_norm['Rows.Row'][0])"
   ]
  },
  {
   "cell_type": "code",
   "execution_count": 7,
   "id": "3cbeac2f",
   "metadata": {},
   "outputs": [],
   "source": [
    "row_norm = pd.json_normalize(row_norm['Rows.Row'][0])"
   ]
  },
  {
   "cell_type": "markdown",
   "id": "d7ed858a",
   "metadata": {},
   "source": [
    "### Step 4\n",
    "the same thing happens as step 3"
   ]
  },
  {
   "cell_type": "code",
   "execution_count": 8,
   "id": "143adacf",
   "metadata": {},
   "outputs": [
    {
     "data": {
      "text/html": [
       "<div>\n",
       "<style scoped>\n",
       "    .dataframe tbody tr th:only-of-type {\n",
       "        vertical-align: middle;\n",
       "    }\n",
       "\n",
       "    .dataframe tbody tr th {\n",
       "        vertical-align: top;\n",
       "    }\n",
       "\n",
       "    .dataframe thead th {\n",
       "        text-align: right;\n",
       "    }\n",
       "</style>\n",
       "<table border=\"1\" class=\"dataframe\">\n",
       "  <thead>\n",
       "    <tr style=\"text-align: right;\">\n",
       "      <th></th>\n",
       "      <th>type</th>\n",
       "      <th>Header.ColData</th>\n",
       "      <th>Rows.Row</th>\n",
       "      <th>Summary.ColData</th>\n",
       "    </tr>\n",
       "  </thead>\n",
       "  <tbody>\n",
       "    <tr>\n",
       "      <th>0</th>\n",
       "      <td>Section</td>\n",
       "      <td>[{'value': '3011 Sunday Collection', 'id': '10...</td>\n",
       "      <td>[{'ColData': [{'value': '3012 Sunday Collectio...</td>\n",
       "      <td>[{'value': 'Total 3011 Sunday Collection'}, {'...</td>\n",
       "    </tr>\n",
       "    <tr>\n",
       "      <th>1</th>\n",
       "      <td>Section</td>\n",
       "      <td>[{'value': '3015 Holy Day Collection', 'id': '...</td>\n",
       "      <td>[{'ColData': [{'value': '3016 Holy Day Collect...</td>\n",
       "      <td>[{'value': 'Total 3015 Holy Day Collection'}, ...</td>\n",
       "    </tr>\n",
       "  </tbody>\n",
       "</table>\n",
       "</div>"
      ],
      "text/plain": [
       "      type                                     Header.ColData  \\\n",
       "0  Section  [{'value': '3011 Sunday Collection', 'id': '10...   \n",
       "1  Section  [{'value': '3015 Holy Day Collection', 'id': '...   \n",
       "\n",
       "                                            Rows.Row  \\\n",
       "0  [{'ColData': [{'value': '3012 Sunday Collectio...   \n",
       "1  [{'ColData': [{'value': '3016 Holy Day Collect...   \n",
       "\n",
       "                                     Summary.ColData  \n",
       "0  [{'value': 'Total 3011 Sunday Collection'}, {'...  \n",
       "1  [{'value': 'Total 3015 Holy Day Collection'}, ...  "
      ]
     },
     "execution_count": 8,
     "metadata": {},
     "output_type": "execute_result"
    }
   ],
   "source": [
    "pd.json_normalize(row_norm['Rows.Row'][0])"
   ]
  },
  {
   "cell_type": "markdown",
   "id": "283cb17d",
   "metadata": {},
   "source": [
    "one more step to the deepest nest (for this initial row, i.e. row 0 of the data frame in Step 2)"
   ]
  },
  {
   "cell_type": "code",
   "execution_count": 9,
   "id": "41f2951d",
   "metadata": {},
   "outputs": [],
   "source": [
    "row_norm = pd.json_normalize(row_norm['Rows.Row'][0])"
   ]
  },
  {
   "cell_type": "markdown",
   "id": "3e612321",
   "metadata": {},
   "source": [
    "### Step 5"
   ]
  },
  {
   "cell_type": "code",
   "execution_count": 10,
   "id": "3f3507a8",
   "metadata": {},
   "outputs": [
    {
     "data": {
      "text/html": [
       "<div>\n",
       "<style scoped>\n",
       "    .dataframe tbody tr th:only-of-type {\n",
       "        vertical-align: middle;\n",
       "    }\n",
       "\n",
       "    .dataframe tbody tr th {\n",
       "        vertical-align: top;\n",
       "    }\n",
       "\n",
       "    .dataframe thead th {\n",
       "        text-align: right;\n",
       "    }\n",
       "</style>\n",
       "<table border=\"1\" class=\"dataframe\">\n",
       "  <thead>\n",
       "    <tr style=\"text-align: right;\">\n",
       "      <th></th>\n",
       "      <th>ColData</th>\n",
       "      <th>type</th>\n",
       "      <th>Header.ColData</th>\n",
       "      <th>Rows.Row</th>\n",
       "      <th>Summary.ColData</th>\n",
       "    </tr>\n",
       "  </thead>\n",
       "  <tbody>\n",
       "    <tr>\n",
       "      <th>0</th>\n",
       "      <td>[{'value': '3012 Sunday Collection Envelopes',...</td>\n",
       "      <td>Data</td>\n",
       "      <td>NaN</td>\n",
       "      <td>NaN</td>\n",
       "      <td>NaN</td>\n",
       "    </tr>\n",
       "    <tr>\n",
       "      <th>1</th>\n",
       "      <td>NaN</td>\n",
       "      <td>Section</td>\n",
       "      <td>[{'value': '3013 Sunday Collection Loose Ck/Ca...</td>\n",
       "      <td>[{'ColData': [{'value': '3013.1 Counting Error...</td>\n",
       "      <td>[{'value': 'Total 3013 Sunday Collection Loose...</td>\n",
       "    </tr>\n",
       "    <tr>\n",
       "      <th>2</th>\n",
       "      <td>[{'value': '3014 Sunday Collections E-Giving',...</td>\n",
       "      <td>Data</td>\n",
       "      <td>NaN</td>\n",
       "      <td>NaN</td>\n",
       "      <td>NaN</td>\n",
       "    </tr>\n",
       "  </tbody>\n",
       "</table>\n",
       "</div>"
      ],
      "text/plain": [
       "                                             ColData     type  \\\n",
       "0  [{'value': '3012 Sunday Collection Envelopes',...     Data   \n",
       "1                                                NaN  Section   \n",
       "2  [{'value': '3014 Sunday Collections E-Giving',...     Data   \n",
       "\n",
       "                                      Header.ColData  \\\n",
       "0                                                NaN   \n",
       "1  [{'value': '3013 Sunday Collection Loose Ck/Ca...   \n",
       "2                                                NaN   \n",
       "\n",
       "                                            Rows.Row  \\\n",
       "0                                                NaN   \n",
       "1  [{'ColData': [{'value': '3013.1 Counting Error...   \n",
       "2                                                NaN   \n",
       "\n",
       "                                     Summary.ColData  \n",
       "0                                                NaN  \n",
       "1  [{'value': 'Total 3013 Sunday Collection Loose...  \n",
       "2                                                NaN  "
      ]
     },
     "execution_count": 10,
     "metadata": {},
     "output_type": "execute_result"
    }
   ],
   "source": [
    "pd.json_normalize(row_norm['Rows.Row'][0])"
   ]
  },
  {
   "cell_type": "code",
   "execution_count": 11,
   "id": "8e13e662",
   "metadata": {},
   "outputs": [],
   "source": [
    "row_norm = pd.json_normalize(row_norm['Rows.Row'][0])"
   ]
  },
  {
   "cell_type": "markdown",
   "id": "60882185",
   "metadata": {},
   "source": [
    "Now is where it gets interesting:   \n",
    "the control flow says   \n",
    "`try:  \n",
    "row_norm = pd.json_normalize(row_norm['Rows.Row'][0])  \n",
    "if 'Rows.Row in row_norm:  \n",
    "       parse_json(row_norm)`"
   ]
  },
  {
   "cell_type": "markdown",
   "id": "759f8037",
   "metadata": {},
   "source": [
    "so that would mean that here, even though there is a `NaN` where the first pd.normalize would happen, it still normalizes again. let's see what happens:"
   ]
  },
  {
   "cell_type": "markdown",
   "id": "831283ef",
   "metadata": {},
   "source": [
    "### Step 6\n",
    "starting at the beginning of the function, it passes through the first block, then the second, where it enters the loop, and starts with row 0, where it tries to normalize"
   ]
  },
  {
   "cell_type": "code",
   "execution_count": 12,
   "id": "45edf4c2",
   "metadata": {},
   "outputs": [
    {
     "ename": "TypeError",
     "evalue": "'float' object is not iterable",
     "output_type": "error",
     "traceback": [
      "\u001b[1;31m---------------------------------------------------------------------------\u001b[0m",
      "\u001b[1;31mTypeError\u001b[0m                                 Traceback (most recent call last)",
      "\u001b[1;32m<ipython-input-12-e47bc6a23ce7>\u001b[0m in \u001b[0;36m<module>\u001b[1;34m\u001b[0m\n\u001b[1;32m----> 1\u001b[1;33m \u001b[0mpd\u001b[0m\u001b[1;33m.\u001b[0m\u001b[0mjson_normalize\u001b[0m\u001b[1;33m(\u001b[0m\u001b[0mrow_norm\u001b[0m\u001b[1;33m[\u001b[0m\u001b[1;34m'Rows.Row'\u001b[0m\u001b[1;33m]\u001b[0m\u001b[1;33m[\u001b[0m\u001b[1;36m0\u001b[0m\u001b[1;33m]\u001b[0m\u001b[1;33m)\u001b[0m\u001b[1;33m\u001b[0m\u001b[1;33m\u001b[0m\u001b[0m\n\u001b[0m",
      "\u001b[1;32m~\\Anaconda3\\lib\\site-packages\\pandas\\io\\json\\_normalize.py\u001b[0m in \u001b[0;36m_json_normalize\u001b[1;34m(data, record_path, meta, meta_prefix, record_prefix, errors, sep, max_level)\u001b[0m\n\u001b[0;32m    268\u001b[0m \u001b[1;33m\u001b[0m\u001b[0m\n\u001b[0;32m    269\u001b[0m     \u001b[1;32mif\u001b[0m \u001b[0mrecord_path\u001b[0m \u001b[1;32mis\u001b[0m \u001b[1;32mNone\u001b[0m\u001b[1;33m:\u001b[0m\u001b[1;33m\u001b[0m\u001b[1;33m\u001b[0m\u001b[0m\n\u001b[1;32m--> 270\u001b[1;33m         \u001b[1;32mif\u001b[0m \u001b[0many\u001b[0m\u001b[1;33m(\u001b[0m\u001b[1;33m[\u001b[0m\u001b[0misinstance\u001b[0m\u001b[1;33m(\u001b[0m\u001b[0mx\u001b[0m\u001b[1;33m,\u001b[0m \u001b[0mdict\u001b[0m\u001b[1;33m)\u001b[0m \u001b[1;32mfor\u001b[0m \u001b[0mx\u001b[0m \u001b[1;32min\u001b[0m \u001b[0my\u001b[0m\u001b[1;33m.\u001b[0m\u001b[0mvalues\u001b[0m\u001b[1;33m(\u001b[0m\u001b[1;33m)\u001b[0m\u001b[1;33m]\u001b[0m \u001b[1;32mfor\u001b[0m \u001b[0my\u001b[0m \u001b[1;32min\u001b[0m \u001b[0mdata\u001b[0m\u001b[1;33m)\u001b[0m\u001b[1;33m:\u001b[0m\u001b[1;33m\u001b[0m\u001b[1;33m\u001b[0m\u001b[0m\n\u001b[0m\u001b[0;32m    271\u001b[0m             \u001b[1;31m# naive normalization, this is idempotent for flat records\u001b[0m\u001b[1;33m\u001b[0m\u001b[1;33m\u001b[0m\u001b[1;33m\u001b[0m\u001b[0m\n\u001b[0;32m    272\u001b[0m             \u001b[1;31m# and potentially will inflate the data considerably for\u001b[0m\u001b[1;33m\u001b[0m\u001b[1;33m\u001b[0m\u001b[1;33m\u001b[0m\u001b[0m\n",
      "\u001b[1;31mTypeError\u001b[0m: 'float' object is not iterable"
     ]
    }
   ],
   "source": [
    "pd.json_normalize(row_norm['Rows.Row'][0])"
   ]
  },
  {
   "cell_type": "markdown",
   "id": "7c2873fd",
   "metadata": {},
   "source": [
    "*Oh hello* it returns a `TypeError`. hmmmmmmmm"
   ]
  },
  {
   "cell_type": "markdown",
   "id": "d9512932",
   "metadata": {},
   "source": [
    "So the `except:` statement has to be in the loop, which it is. The code has   \n",
    "`except:  \n",
    "   continue`"
   ]
  },
  {
   "cell_type": "markdown",
   "id": "69901a2b",
   "metadata": {},
   "source": [
    "the code will add one to the `row` iterator, and try to iterate the second row"
   ]
  },
  {
   "cell_type": "markdown",
   "id": "ad5b5b8b",
   "metadata": {},
   "source": [
    "### Step 7"
   ]
  },
  {
   "cell_type": "code",
   "execution_count": 13,
   "id": "b3a4e381",
   "metadata": {},
   "outputs": [
    {
     "data": {
      "text/html": [
       "<div>\n",
       "<style scoped>\n",
       "    .dataframe tbody tr th:only-of-type {\n",
       "        vertical-align: middle;\n",
       "    }\n",
       "\n",
       "    .dataframe tbody tr th {\n",
       "        vertical-align: top;\n",
       "    }\n",
       "\n",
       "    .dataframe thead th {\n",
       "        text-align: right;\n",
       "    }\n",
       "</style>\n",
       "<table border=\"1\" class=\"dataframe\">\n",
       "  <thead>\n",
       "    <tr style=\"text-align: right;\">\n",
       "      <th></th>\n",
       "      <th>ColData</th>\n",
       "      <th>type</th>\n",
       "    </tr>\n",
       "  </thead>\n",
       "  <tbody>\n",
       "    <tr>\n",
       "      <th>0</th>\n",
       "      <td>[{'value': '3013.1 Counting Error', 'id': '692...</td>\n",
       "      <td>Data</td>\n",
       "    </tr>\n",
       "  </tbody>\n",
       "</table>\n",
       "</div>"
      ],
      "text/plain": [
       "                                             ColData  type\n",
       "0  [{'value': '3013.1 Counting Error', 'id': '692...  Data"
      ]
     },
     "execution_count": 13,
     "metadata": {},
     "output_type": "execute_result"
    }
   ],
   "source": [
    "pd.json_normalize(row_norm['Rows.Row'][1])"
   ]
  },
  {
   "cell_type": "code",
   "execution_count": 14,
   "id": "c20c7d9d",
   "metadata": {},
   "outputs": [],
   "source": [
    "row_norm = pd.json_normalize(row_norm['Rows.Row'][1])"
   ]
  },
  {
   "cell_type": "markdown",
   "id": "e08a0709",
   "metadata": {},
   "source": [
    "I didn't expect this. There is a ColData column and a Type column, so this will have to be normalize again. But as the code is now, there is nothing to tell it to do something. "
   ]
  },
  {
   "cell_type": "code",
   "execution_count": null,
   "id": "b4d2239d",
   "metadata": {},
   "outputs": [],
   "source": [
    "def parse_json(data):\n",
    "    if isinstance(data, dict):\n",
    "        data = pd.json_normalize(data)\n",
    "        parse_json(data)\n",
    "    elif isinstance(data, pandas.core.frame.DataFrame):\n",
    "        for row in data.shape[0]:\n",
    "            try:\n",
    "                row_norm = pd.json_normalize(data['Rows.Row'][row])\n",
    "                if 'Rows.Row' in row_norm:\n",
    "                    parse_json(row_norm)\n",
    "                    # SEE! THERE IS NOTHING HERE\n",
    "            except:\n",
    "                continue"
   ]
  },
  {
   "cell_type": "markdown",
   "id": "57a0a191",
   "metadata": {},
   "source": [
    "Lets add something to fix that"
   ]
  },
  {
   "cell_type": "markdown",
   "id": "d66c92fe",
   "metadata": {},
   "source": [
    "I think I should actually change the order and get rid of the try statement...\n",
    "but then how would we deal with parsing the NaN? do the try/except inside the if?"
   ]
  },
  {
   "cell_type": "code",
   "execution_count": null,
   "id": "e60413ab",
   "metadata": {},
   "outputs": [],
   "source": [
    "def parse_json(data):\n",
    "    if isinstance(data, dict):\n",
    "        data = pd.json_normalize(data)\n",
    "        parse_json(data)\n",
    "    elif isinstance(data, pandas.core.frame.DataFrame):\n",
    "        for row in data.shape[0]:\n",
    "                if 'Rows.Row' in row_norm:\n",
    "                    try:\n",
    "                        row_norm = pd.json_normalize(data['Rows.Row'][row])\n",
    "                        parse_json(row_norm)\n",
    "                    except:\n",
    "                        continue\n",
    "                elif 'ColData' in row_norm:\n",
    "                    try:\n",
    "                        row_norm = pd.json_normalize(data['ColData'][row])\n"
   ]
  },
  {
   "cell_type": "markdown",
   "id": "2e83ed16",
   "metadata": {},
   "source": [
    "So i switched the order, now the try/except is inside the if. for right now, let's see what normalizing this ColData df gets us. "
   ]
  },
  {
   "cell_type": "markdown",
   "id": "b4ef9491",
   "metadata": {},
   "source": [
    "### Step 8\n",
    "normalize on key `'ColData'`"
   ]
  },
  {
   "cell_type": "code",
   "execution_count": 15,
   "id": "b8a31b08",
   "metadata": {},
   "outputs": [
    {
     "data": {
      "text/html": [
       "<div>\n",
       "<style scoped>\n",
       "    .dataframe tbody tr th:only-of-type {\n",
       "        vertical-align: middle;\n",
       "    }\n",
       "\n",
       "    .dataframe tbody tr th {\n",
       "        vertical-align: top;\n",
       "    }\n",
       "\n",
       "    .dataframe thead th {\n",
       "        text-align: right;\n",
       "    }\n",
       "</style>\n",
       "<table border=\"1\" class=\"dataframe\">\n",
       "  <thead>\n",
       "    <tr style=\"text-align: right;\">\n",
       "      <th></th>\n",
       "      <th>value</th>\n",
       "      <th>id</th>\n",
       "    </tr>\n",
       "  </thead>\n",
       "  <tbody>\n",
       "    <tr>\n",
       "      <th>0</th>\n",
       "      <td>3013.1 Counting Error</td>\n",
       "      <td>692</td>\n",
       "    </tr>\n",
       "    <tr>\n",
       "      <th>1</th>\n",
       "      <td>452.45</td>\n",
       "      <td>NaN</td>\n",
       "    </tr>\n",
       "  </tbody>\n",
       "</table>\n",
       "</div>"
      ],
      "text/plain": [
       "                   value   id\n",
       "0  3013.1 Counting Error  692\n",
       "1                 452.45  NaN"
      ]
     },
     "execution_count": 15,
     "metadata": {},
     "output_type": "execute_result"
    }
   ],
   "source": [
    "pd.json_normalize(row_norm['ColData'][0])"
   ]
  },
  {
   "cell_type": "markdown",
   "id": "5f12a6ba",
   "metadata": {},
   "source": [
    "Now we have gotten to a place where we can't normalize anymore. we have a data frame whose data we want to save"
   ]
  },
  {
   "cell_type": "markdown",
   "id": "f0405024",
   "metadata": {},
   "source": [
    "So now what? what next...\n",
    "we want these **(the base cases)** to be handled in a special way"
   ]
  },
  {
   "cell_type": "code",
   "execution_count": 17,
   "id": "c54bfebe",
   "metadata": {},
   "outputs": [],
   "source": [
    "def parse_json(data):\n",
    "    if isinstance(data, dict):\n",
    "        data = pd.json_normalize(data)\n",
    "        parse_json(data)\n",
    "    elif isinstance(data, pandas.core.frame.DataFrame):\n",
    "        for row in data.shape[0]:\n",
    "                if 'Rows.Row' in row_norm:\n",
    "                    try:\n",
    "                        row_norm = pd.json_normalize(data['Rows.Row'][row])\n",
    "                        parse_json(row_norm)\n",
    "                    except:\n",
    "                        continue\n",
    "                elif 'ColData' in row_norm:\n",
    "                    try:\n",
    "                        row_norm = pd.json_normalize(data['ColData'][row])\n",
    "                        # HERE\n",
    "                        acc_name = row_norm['value'][0]\n",
    "                        acc_id   = row_norm['id'][0]\n",
    "                        acc_val  = row_norm['value'][1]\n",
    "                    except:\n",
    "                        pass"
   ]
  },
  {
   "cell_type": "markdown",
   "id": "9138d6ad",
   "metadata": {},
   "source": [
    "**But how do we**  \n",
    "1. move in and out of the data frames? What causes the code to go back up a level to a previous parent data frame? and..\n",
    "2. store the data once we find it? "
   ]
  },
  {
   "cell_type": "markdown",
   "id": "af986beb",
   "metadata": {},
   "source": [
    "### Step 8 (Digression)    \n",
    "what if we use specifically named variables corresponding to the record path used for the normalization? (i.e. rows_data is `normalize(data['Rows.Row'][row])` and header_data is `normalize(data['Header.ColData][row])` etc.)"
   ]
  },
  {
   "cell_type": "markdown",
   "id": "338217e0",
   "metadata": {},
   "source": [
    "*as an fyi to myself, the reason i have the `try/except` statements in the code is to deal with the `NaN` values in the data frames. you could normalize on an existing column, but their might not be any data in the corresponding row*"
   ]
  },
  {
   "cell_type": "code",
   "execution_count": 41,
   "id": "87575573",
   "metadata": {},
   "outputs": [],
   "source": [
    "def parse_json(data):\n",
    "    if isinstance(data, dict):\n",
    "        data = pd.json_normalize(data)\n",
    "        parse_json(data)\n",
    "    elif isinstance(data, pd.core.frame.DataFrame):\n",
    "        # print(data.shape[0])\n",
    "        for row in range(data.shape[0]):\n",
    "                if 'Rows.Row' in data:\n",
    "                    try:\n",
    "                        row_data = pd.json_normalize(data['Rows.Row'][row])\n",
    "                        parse_json(row_data)\n",
    "                    except:\n",
    "                        continue\n",
    "                elif 'ColData' in data:\n",
    "                    try:\n",
    "                        col_data = pd.json_normalize(data['ColData'][row])\n",
    "                        # HERE\n",
    "                        acc_name = col_data['value'][0] # local variable\n",
    "                        acc_id   = col_data['id'][0]\n",
    "                        acc_val  = col_data['value'][1]\n",
    "                        print(f\"{acc_name}, {acc_id}, {acc_val}\")\n",
    "                    except:\n",
    "                        continue\n",
    "                elif 'Header.ColData' in data:\n",
    "                    try:\n",
    "                        head_data = pd.json_normalize(data['Header.ColData'][row])\n",
    "                        if isinstance(head_data, pd.core.frame.DataFrame) and 'id' not in head_data:\n",
    "                            continue\n",
    "                        elif isinstance(head_data, pd.core.frame.DataFrame): \n",
    "                            acc_name = head_data['value'][0]\n",
    "                            acc_id   = head_data['id'][0]\n",
    "                            acc_val  = head_data['value'][1]\n",
    "                            print(f\"{acc_name}, {acc_id}, {acc_val}\")\n",
    "                    except:\n",
    "                        continue"
   ]
  },
  {
   "cell_type": "markdown",
   "id": "9260b331",
   "metadata": {},
   "source": [
    "### Let's run the actual code"
   ]
  },
  {
   "cell_type": "code",
   "execution_count": 43,
   "id": "27f62ad0",
   "metadata": {},
   "outputs": [
    {
     "name": "stdout",
     "output_type": "stream",
     "text": [
      "3013.1 Counting Error, 692, 452.45\n",
      "3016 Holy Day Collection Envelopes, 281, 5408.00\n",
      "3017 Holy Day Collect. Loose Ck/Cash, 280, 568.00\n",
      "3042 Flowers Collection, 558, 1173.00\n",
      "3043 School Support Collection, 282, 140.00\n",
      "3045 Almsgiving, 369, 5828.00\n",
      "3101 Tuition - Current, 698, 3014281.05\n",
      "3102 Tuition - Prior, 648, 30883.00\n",
      "3125A 3rd Party Rev., 658, 216.00\n",
      "3125B 3rd Party Exp, 612, 5440.00\n",
      "3301 School Meal Program, 37, 413.00\n",
      "3351 Facility Lease, 595, 45900.00\n",
      "3352 Facility Rental, 630, 200.00\n",
      "3407.01 Tax Credit Scholarship, 358, 65526.50\n",
      "3461.03 SJS Annual Fund Drive, 678, 1515.00\n",
      "3462.01 SFXS Annual School Appeal, 650, 2000.00\n",
      "3501 Interest-Arch Regular Savings, 41, 1646.24\n",
      "3502 Interest-Arch Cert of Deposit, 42, 671.46\n",
      "3503 Interest-Arch Building Fund, 43, 2146.75\n",
      "3504 Invest. Gains/Losses Arch Endow, 44, 548814.09\n",
      "3505 Invest. Gains/Loss Arch Spc Inv, 147, 23768.66\n",
      "3506 Interest-Checking Accounts, 148, 46.03\n",
      "3507 Other Interest Account, 45, 212.75\n",
      "3603.02 SFX Men's Club, 460, 23300.38\n",
      "3603.10 SFXS Home School Organization, 464, 61270.00\n",
      "3701.10 Baptism, 263, 2310.00\n",
      "3701.20 Funeral, 508, 17075.00\n",
      "3701.30 Wedding, 509, 14355.00\n",
      "4011 Priests, 638, 95672.51\n",
      "4012 Extra Priests, 576, 2998.50\n",
      "4014 Professional Staff, 672, 254442.99\n",
      "4015 Admin Support Staff - Church, 397, 260213.91\n",
      "4016 House Staff, 580, 18738.50\n",
      "4017 Maintenance - Church, 396, 99515.51\n",
      "4511 Administrators & Othr Schl Prof, 639, 187866.32\n",
      "4512 Religious Teachers, 577, 6366.45\n",
      "4513 Lay Teachers, 690, 978663.38\n",
      "4514 Special Program Teachers, 578, 500598.51\n",
      "4515 Instructional Aides, 640, 293617.53\n",
      "4516 Substitute Teachers, 579, 67765.46\n",
      "4517 Support Staff - School, 673, 206864.71\n",
      "4518 Maintenance Staff - School, 641, 101043.27\n",
      "4052 Fringe Benefits - Lay, 186, 82431.62\n",
      "4061 Professional Growth, 189, 14202.86\n",
      "4062 Ministerial Expense Allowance, 568, 1247.50\n",
      "4063 Unemployment Compensation, 581, 8967.00\n",
      "4102 Offertory Supplies, 169, 480.23\n",
      "4103 Books and Magazines, 170, 4362.62\n",
      "4105 Textbooks, 561, 19909.81\n",
      "4106 Workbooks, 688, 22371.51\n",
      "4107 Library Materials, 562, 1778.29\n",
      "4109 Instructional Materials, 563, 58384.85\n",
      "4110 Instructional Software, 187, 18647.84\n",
      "4151 Ofc Equipment-Supplies & Maint., 47, 14325.78\n",
      "4152 Outside Printing Cost, 48, 20296.63\n",
      "4153 Postage/Courier Services, 49, 4745.59\n",
      "4154 Office Supplies, 50, 9787.12\n",
      "4155 Professional Service Fees, 51, 138121.38\n",
      "4156 Computer Supplies, 185, 25801.46\n",
      "4157 Criminal Background Checks, 52, 1801.23\n",
      "4158 Bank Fees, 386, 38553.67\n",
      "4159 Other Administrative Expense, 420, 73.50\n",
      "4201 Local Travel/Reimbursement, 162, 60.89\n",
      "4252 Food/Groceries, 56, 14456.82\n",
      "4253 Meal Allowance, 57, 3906.06\n",
      "4254 Catering, 58, 968.71\n",
      "4431 Water/Sewer, 63, 17200.07\n",
      "4432 Scavenger Service, 64, 8210.37\n",
      "4433 Cable/Dish Services, 65, 3547.77\n",
      "4434 Internet/Computer Telecom Costs, 66, 7303.98\n",
      "4451 Security, 68, 24729.00\n",
      "4452 Ground Services, 69, 64338.89\n",
      "4453 Ground Supplies, 70, 1699.18\n",
      "4454 Building Services, 71, 45461.95\n",
      "4455 Repairs to Buildings, 115, 86243.24\n",
      "4456 Equipment Services, 116, 14684.21\n",
      "4457 Equipment Rental, 117, -182.18\n",
      "4459 Janitorial Supplies, 118, 30597.21\n",
      "4555 Bingo Hall Rental, 372, 900.00\n",
      "4601 Interest Expense Oper. Loans, 378, 4768.60\n",
      "4651 Hosts and Wine, 121, 960.49\n",
      "4653 Candles, 123, 1786.10\n",
      "4656 Music Books, 126, 464.49\n",
      "4657 Liturgical Publications, 129, 1465.58\n",
      "4659 Flowers, 130, 3283.85\n",
      "4660 Other Liturgical Costs, 127, 1317.72\n",
      "4701 Admin Furnishings/Equip, 132, 27765.58\n",
      "4702 Instructional Furnishings/Equip, 133, 189206.17\n",
      "4703 Maintenance Furnishings/Equip, 134, 4633.76\n",
      "4751 Archhdiocesean Assesment, 253, 177788.16\n",
      "4752 Lease, Lic & Rental Arch Assess, 254, 4171.50\n",
      "4820A Credit Card Expense - Needs Det, 361, -5838.83\n",
      "5001 Casualty Claims, 220, 9560.00\n",
      "5011.1 St. VIncent de Paul, 516, 45309.00\n",
      "5012.02 St. Ignatius, 424, 14002.00\n",
      "5013.01 St. Thomas of Canterbury, 421, 46138.00\n",
      "5016C IC Secial Fundraising, 547, 40000.00\n",
      "5031 Latin America, 81, 1401.00\n",
      "5032 Seminaries, 87, 3035.00\n",
      "5033 Annual Catholic Appeal, 82, -1132.00\n",
      "5034 Holy Land, 83, 120.00\n",
      "5035 Aid Churches Centl/East Europe, 86, 1785.00\n",
      "5036 Catholic Charities, 84, 2060.00\n",
      "5037 Peter's Pence, 85, 755.00\n",
      "5039 World Mission Sunday, 88, 2148.00\n",
      "5040 Cath Campaign for Human Develop, 89, 5240.00\n",
      "5041 Religious Retirement, 90, 5066.00\n",
      "5042 Missionary CO-OP Plan, 218, 940.00\n",
      "5044 Archdiocesan Priest Retirement, 297, 3060.00\n",
      "5052 Bequests Proceeds, 204, 20000.00\n",
      "5053 Memorial Proceeds, 205, 2070.00\n",
      "5061 Other Extraordinary Collections, 207, 255.00\n",
      "5065 Other Extraordinary Income, 427, 201413.98\n",
      "5115.01 St Joseph TTWCI Campaign, 430, 17044.50\n",
      "5115.02 St Francis Xavier TTWCI Campagn, 431, 107071.91\n",
      "5122 Church Building Fund, 77, 206170.63\n",
      "6011.01 St. Vincent de Paul, 517, 48253.00\n",
      "6012.02 St. Ignatius, 702, 500.00\n",
      "6013.01 St. Thomas of Canterbury, 616, 57767.50\n",
      "6016A IC Normal School Support, 542, 23509.93\n",
      "6016B IC Special School Support, 543, 57035.00\n",
      "6016C IC Parish Support, 544, 4060.00\n",
      "6016D IT Superintendent Support, 545, 3000.00\n",
      "6016E Scholorships, 555, 14306.00\n",
      "6031 Latin America, 172, 485.00\n",
      "6032 Seminaries, 178, 2945.00\n",
      "6034 Holy Land, 174, 1245.00\n",
      "6035 Aid Churches Centl/East Europe, 177, 6072.00\n",
      "6036 Catholic Charities, 175, 4671.52\n",
      "6037 Peter's Pence, 176, 3143.00\n",
      "6039 World Mission Sunday, 179, 2218.00\n",
      "6040 Cath Campaign for Human Develop, 180, 4665.00\n",
      "6041 Religious Retirement, 181, 1863.42\n",
      "6044 Archdiocesan Priest Retirement, 296, 7160.00\n",
      "6061 Real Estate Taxes, 193, 6098.01\n",
      "6063 Other Extraordinary Expenses, 637, 352688.99\n",
      "6064 Prior Year Adjustments, 309, -107155.37\n",
      "6112.01 SJ Church Sound System Upgrade, 661, 957.81\n",
      "6112.02 Church Lighting Project, 594, 21425.40\n",
      "6112.06 School Security, 627, 33304.30\n",
      "6112.07 SJ Parking lot project, 628, 8329.89\n",
      "6112.08 Church Masonry, 629, 9270.00\n",
      "6113.02 SFX Church Improvements, 512, 168418.05\n",
      "6113.03 SFX Church Carpet, 515, 50000.00\n",
      "6113.04 SFX Parking lot project, 554, 4356.66\n",
      "6113.05 Church Masonry, 557, 6590.00\n"
     ]
    }
   ],
   "source": [
    "parse_json(rawdata)"
   ]
  },
  {
   "cell_type": "code",
   "execution_count": 33,
   "id": "7c2f04b6",
   "metadata": {},
   "outputs": [
    {
     "data": {
      "text/plain": [
       "dict"
      ]
     },
     "execution_count": 33,
     "metadata": {},
     "output_type": "execute_result"
    }
   ],
   "source": [
    "type(rawdata)"
   ]
  },
  {
   "cell_type": "markdown",
   "id": "20787636",
   "metadata": {},
   "source": [
    "Oh my stars! It actually does something right! It's not all the data though... let's figure out what it got and what it missed."
   ]
  },
  {
   "cell_type": "markdown",
   "id": "d5509bb3",
   "metadata": {},
   "source": [
    "<span style=\"color:blue\">*(another note: the code did exactly what I thought it would do based on stepping through it up above. so that's a partial win!)*</span>"
   ]
  },
  {
   "cell_type": "markdown",
   "id": "675753da",
   "metadata": {},
   "source": [
    "So what it does is  \n",
    "- it keeps normalizing when it finds a rows.row in a data frame, and will only print out the column data when it has reach the last Rows.Row. Which makse sense from the code\n",
    "- also, it doesn't seem to go \"back up to the top?\"  to then do it again? I'll try to show what I mean."
   ]
  },
  {
   "cell_type": "markdown",
   "id": "9021c4c3",
   "metadata": {},
   "source": [
    "### Troubleshooting"
   ]
  },
  {
   "cell_type": "markdown",
   "id": "b707cb47",
   "metadata": {},
   "source": [
    "What do we want it to do? Do we want it to:\n",
    "- go down the rabbit hole first, then come back out, then go down a different rabbit hole?\n",
    "- or just get everything as we go deeper and deeper?"
   ]
  }
 ],
 "metadata": {
  "kernelspec": {
   "display_name": "Python 3",
   "language": "python",
   "name": "python3"
  },
  "language_info": {
   "codemirror_mode": {
    "name": "ipython",
    "version": 3
   },
   "file_extension": ".py",
   "mimetype": "text/x-python",
   "name": "python",
   "nbconvert_exporter": "python",
   "pygments_lexer": "ipython3",
   "version": "3.8.8"
  }
 },
 "nbformat": 4,
 "nbformat_minor": 5
}
