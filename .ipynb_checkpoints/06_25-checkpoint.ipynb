{
 "cells": [
  {
   "cell_type": "code",
   "execution_count": 2,
   "id": "8c921154",
   "metadata": {},
   "outputs": [],
   "source": [
    "import pandas as pd\n",
    "import json\n",
    "\n",
    "with open(\"ProfitAndLoss.json\") as f:\n",
    "    rawdata = json.load(f)"
   ]
  },
  {
   "cell_type": "code",
   "execution_count": null,
   "id": "38f5c868",
   "metadata": {},
   "outputs": [],
   "source": [
    "type(pd.json_normalize(rawdata))"
   ]
  },
  {
   "cell_type": "code",
   "execution_count": null,
   "id": "de6b794c",
   "metadata": {},
   "outputs": [],
   "source": [
    "type(child_2_0_h['value'])"
   ]
  },
  {
   "cell_type": "code",
   "execution_count": null,
   "id": "7cbaf612",
   "metadata": {},
   "outputs": [],
   "source": [
    "type(child_2_0_h.iloc[0])"
   ]
  },
  {
   "cell_type": "code",
   "execution_count": null,
   "id": "9038bf18",
   "metadata": {},
   "outputs": [],
   "source": [
    "def check_col(data):\n",
    "    \"\"\"\n",
    "    Find the data.\n",
    "    \"\"\"\n",
    "    global child_count\n",
    "    if isinstance(data, pandas.core.frame.DataFrame): # check if already normalized to df\n",
    "        if 'type' in data and data['type'] == 'data': # will always be coldata, always df \n",
    "            # iterate through rows\n",
    "            for row in data.shape[0]:\n",
    "                try:\n",
    "                    row_norm = pd.json_normalize(data['ColData'][row])\n",
    "                    acc_name = row_norm['value'][0]\n",
    "                    acc_id   = row_norm['id'][0]\n",
    "                    acc_val  = row_norm['value'][1]\n",
    "                    \n",
    "                    ##### add all of these to df, list, dict??\n",
    "                    \n",
    "                except:\n",
    "                    continue\n",
    "        elif 'Header.ColData' in data:\n",
    "            for row in data.shape[0]:\n",
    "                try:\n",
    "                    row_norm = pd.json_normalize(data['Header.ColData'][row])\n",
    "                except:\n",
    "                    continue\n",
    "                # if it is just one row with account name\n",
    "                else:\n",
    "                    if isinstance (row_norm, pandas.core.series.Series) and row_norm['id'] != 'NaN': \n",
    "                        acc_name = row_norm['value']\n",
    "                        acc_id   = row_norm['id']\n",
    "                        # add row_norm['value'] to df, list, dict?\n",
    "                        # add row_norm['id'] to df, list, dict?\n",
    "                    # it if is just one row with account value\n",
    "                    elif instance(row_norm, pandas.core.series.Series):\n",
    "                        acc_val  = row_norm['value']\n",
    "                        # add row_norm['value'] to df, list, dict?\n",
    "                    else isinstance(row_norm, pandas.core.frame.DataFrame):"
   ]
  },
  {
   "cell_type": "code",
   "execution_count": null,
   "id": "58f23789",
   "metadata": {},
   "outputs": [],
   "source": []
  },
  {
   "cell_type": "code",
   "execution_count": 3,
   "id": "c753868c",
   "metadata": {},
   "outputs": [
    {
     "data": {
      "text/html": [
       "<div>\n",
       "<style scoped>\n",
       "    .dataframe tbody tr th:only-of-type {\n",
       "        vertical-align: middle;\n",
       "    }\n",
       "\n",
       "    .dataframe tbody tr th {\n",
       "        vertical-align: top;\n",
       "    }\n",
       "\n",
       "    .dataframe thead th {\n",
       "        text-align: right;\n",
       "    }\n",
       "</style>\n",
       "<table border=\"1\" class=\"dataframe\">\n",
       "  <thead>\n",
       "    <tr style=\"text-align: right;\">\n",
       "      <th></th>\n",
       "      <th>Header.Time</th>\n",
       "      <th>Header.ReportName</th>\n",
       "      <th>Header.DateMacro</th>\n",
       "      <th>Header.ReportBasis</th>\n",
       "      <th>Header.StartPeriod</th>\n",
       "      <th>Header.EndPeriod</th>\n",
       "      <th>Header.SummarizeColumnsBy</th>\n",
       "      <th>Header.Currency</th>\n",
       "      <th>Header.Option</th>\n",
       "      <th>Columns.Column</th>\n",
       "      <th>Rows.Row</th>\n",
       "    </tr>\n",
       "  </thead>\n",
       "  <tbody>\n",
       "    <tr>\n",
       "      <th>0</th>\n",
       "      <td>2021-06-07T12:55:08-07:00</td>\n",
       "      <td>ProfitAndLoss</td>\n",
       "      <td>this fiscal year-to-date</td>\n",
       "      <td>Accrual</td>\n",
       "      <td>2020-07-01</td>\n",
       "      <td>2021-06-07</td>\n",
       "      <td>Total</td>\n",
       "      <td>USD</td>\n",
       "      <td>[{'Name': 'AccountingStandard', 'Value': 'GAAP...</td>\n",
       "      <td>[{'ColTitle': '', 'ColType': 'Account', 'MetaD...</td>\n",
       "      <td>[{'Header': {'ColData': [{'value': 'Income'}, ...</td>\n",
       "    </tr>\n",
       "  </tbody>\n",
       "</table>\n",
       "</div>"
      ],
      "text/plain": [
       "                 Header.Time Header.ReportName          Header.DateMacro  \\\n",
       "0  2021-06-07T12:55:08-07:00     ProfitAndLoss  this fiscal year-to-date   \n",
       "\n",
       "  Header.ReportBasis Header.StartPeriod Header.EndPeriod  \\\n",
       "0            Accrual         2020-07-01       2021-06-07   \n",
       "\n",
       "  Header.SummarizeColumnsBy Header.Currency  \\\n",
       "0                     Total             USD   \n",
       "\n",
       "                                       Header.Option  \\\n",
       "0  [{'Name': 'AccountingStandard', 'Value': 'GAAP...   \n",
       "\n",
       "                                      Columns.Column  \\\n",
       "0  [{'ColTitle': '', 'ColType': 'Account', 'MetaD...   \n",
       "\n",
       "                                            Rows.Row  \n",
       "0  [{'Header': {'ColData': [{'value': 'Income'}, ...  "
      ]
     },
     "execution_count": 3,
     "metadata": {},
     "output_type": "execute_result"
    }
   ],
   "source": [
    "parent = pd.json_normalize(rawdata)\n",
    "parent"
   ]
  },
  {
   "cell_type": "code",
   "execution_count": 4,
   "id": "5b609912",
   "metadata": {},
   "outputs": [
    {
     "data": {
      "text/html": [
       "<div>\n",
       "<style scoped>\n",
       "    .dataframe tbody tr th:only-of-type {\n",
       "        vertical-align: middle;\n",
       "    }\n",
       "\n",
       "    .dataframe tbody tr th {\n",
       "        vertical-align: top;\n",
       "    }\n",
       "\n",
       "    .dataframe thead th {\n",
       "        text-align: right;\n",
       "    }\n",
       "</style>\n",
       "<table border=\"1\" class=\"dataframe\">\n",
       "  <thead>\n",
       "    <tr style=\"text-align: right;\">\n",
       "      <th></th>\n",
       "      <th>type</th>\n",
       "      <th>group</th>\n",
       "      <th>Header.ColData</th>\n",
       "      <th>Rows.Row</th>\n",
       "      <th>Summary.ColData</th>\n",
       "    </tr>\n",
       "  </thead>\n",
       "  <tbody>\n",
       "    <tr>\n",
       "      <th>0</th>\n",
       "      <td>Section</td>\n",
       "      <td>Income</td>\n",
       "      <td>[{'value': 'Income'}, {'value': ''}]</td>\n",
       "      <td>[{'Header': {'ColData': [{'value': '3000 Sunda...</td>\n",
       "      <td>[{'value': 'Total Income'}, {'value': '6036637...</td>\n",
       "    </tr>\n",
       "    <tr>\n",
       "      <th>1</th>\n",
       "      <td>Section</td>\n",
       "      <td>GrossProfit</td>\n",
       "      <td>NaN</td>\n",
       "      <td>NaN</td>\n",
       "      <td>[{'value': 'Gross Profit'}, {'value': '6036637...</td>\n",
       "    </tr>\n",
       "    <tr>\n",
       "      <th>2</th>\n",
       "      <td>Section</td>\n",
       "      <td>Expenses</td>\n",
       "      <td>[{'value': 'Expenses'}, {'value': ''}]</td>\n",
       "      <td>[{'Header': {'ColData': [{'value': '4010 Salar...</td>\n",
       "      <td>[{'value': 'Total Expenses'}, {'value': '55455...</td>\n",
       "    </tr>\n",
       "    <tr>\n",
       "      <th>3</th>\n",
       "      <td>Section</td>\n",
       "      <td>NetOperatingIncome</td>\n",
       "      <td>NaN</td>\n",
       "      <td>NaN</td>\n",
       "      <td>[{'value': 'Net Operating Income'}, {'value': ...</td>\n",
       "    </tr>\n",
       "    <tr>\n",
       "      <th>4</th>\n",
       "      <td>Section</td>\n",
       "      <td>OtherIncome</td>\n",
       "      <td>[{'value': 'Other Income'}, {'value': ''}]</td>\n",
       "      <td>[{'Header': {'ColData': [{'value': '5000 Insur...</td>\n",
       "      <td>[{'value': 'Total Other Income'}, {'value': '7...</td>\n",
       "    </tr>\n",
       "    <tr>\n",
       "      <th>5</th>\n",
       "      <td>Section</td>\n",
       "      <td>OtherExpenses</td>\n",
       "      <td>[{'value': 'Other Expenses'}, {'value': ''}]</td>\n",
       "      <td>[{'Header': {'ColData': [{'value': '6010 Share...</td>\n",
       "      <td>[{'value': 'Total Other Expenses'}, {'value': ...</td>\n",
       "    </tr>\n",
       "    <tr>\n",
       "      <th>6</th>\n",
       "      <td>Section</td>\n",
       "      <td>NetOtherIncome</td>\n",
       "      <td>NaN</td>\n",
       "      <td>NaN</td>\n",
       "      <td>[{'value': 'Net Other Income'}, {'value': '-17...</td>\n",
       "    </tr>\n",
       "    <tr>\n",
       "      <th>7</th>\n",
       "      <td>Section</td>\n",
       "      <td>NetIncome</td>\n",
       "      <td>NaN</td>\n",
       "      <td>NaN</td>\n",
       "      <td>[{'value': 'Net Income'}, {'value': '473846.67'}]</td>\n",
       "    </tr>\n",
       "  </tbody>\n",
       "</table>\n",
       "</div>"
      ],
      "text/plain": [
       "      type               group                                Header.ColData  \\\n",
       "0  Section              Income          [{'value': 'Income'}, {'value': ''}]   \n",
       "1  Section         GrossProfit                                           NaN   \n",
       "2  Section            Expenses        [{'value': 'Expenses'}, {'value': ''}]   \n",
       "3  Section  NetOperatingIncome                                           NaN   \n",
       "4  Section         OtherIncome    [{'value': 'Other Income'}, {'value': ''}]   \n",
       "5  Section       OtherExpenses  [{'value': 'Other Expenses'}, {'value': ''}]   \n",
       "6  Section      NetOtherIncome                                           NaN   \n",
       "7  Section           NetIncome                                           NaN   \n",
       "\n",
       "                                            Rows.Row  \\\n",
       "0  [{'Header': {'ColData': [{'value': '3000 Sunda...   \n",
       "1                                                NaN   \n",
       "2  [{'Header': {'ColData': [{'value': '4010 Salar...   \n",
       "3                                                NaN   \n",
       "4  [{'Header': {'ColData': [{'value': '5000 Insur...   \n",
       "5  [{'Header': {'ColData': [{'value': '6010 Share...   \n",
       "6                                                NaN   \n",
       "7                                                NaN   \n",
       "\n",
       "                                     Summary.ColData  \n",
       "0  [{'value': 'Total Income'}, {'value': '6036637...  \n",
       "1  [{'value': 'Gross Profit'}, {'value': '6036637...  \n",
       "2  [{'value': 'Total Expenses'}, {'value': '55455...  \n",
       "3  [{'value': 'Net Operating Income'}, {'value': ...  \n",
       "4  [{'value': 'Total Other Income'}, {'value': '7...  \n",
       "5  [{'value': 'Total Other Expenses'}, {'value': ...  \n",
       "6  [{'value': 'Net Other Income'}, {'value': '-17...  \n",
       "7  [{'value': 'Net Income'}, {'value': '473846.67'}]  "
      ]
     },
     "execution_count": 4,
     "metadata": {},
     "output_type": "execute_result"
    }
   ],
   "source": [
    "child_0 = pd.json_normalize(parent['Rows.Row'][0])\n",
    "child_0"
   ]
  },
  {
   "cell_type": "code",
   "execution_count": null,
   "id": "4f2695e1",
   "metadata": {},
   "outputs": [],
   "source": [
    "child_1_1_h = pd.json_normalize(child_0['Header.ColData'][1])"
   ]
  },
  {
   "cell_type": "code",
   "execution_count": null,
   "id": "f47b64f0",
   "metadata": {},
   "outputs": [],
   "source": [
    "child_1_0_h = pd.json_normalize(child_0['Header.ColData'][0])"
   ]
  },
  {
   "cell_type": "code",
   "execution_count": null,
   "id": "53c18c28",
   "metadata": {},
   "outputs": [],
   "source": [
    "child_1_0_h = pd.json_normalize(child_0['Header.ColData'][0])\n",
    "child_1_0_h"
   ]
  },
  {
   "cell_type": "code",
   "execution_count": null,
   "id": "40dc9f9c",
   "metadata": {},
   "outputs": [],
   "source": [
    "child_1_0_r = pd.json_normalize(child_0['Rows.Row'][0])\n",
    "child_1_0_r"
   ]
  },
  {
   "cell_type": "code",
   "execution_count": null,
   "id": "596271f7",
   "metadata": {},
   "outputs": [],
   "source": [
    "child_2_1_c = pd.json_normalize(child_1_0_r['ColData'][1])\n",
    "child_2_1_c"
   ]
  },
  {
   "cell_type": "code",
   "execution_count": null,
   "id": "3765e2cb",
   "metadata": {},
   "outputs": [],
   "source": [
    "child_2_0_h = pd.json_normalize(child_1_0_r['Header.ColData'][0])\n",
    "print(child_2_0_h)\n",
    "print(type(child_2_0_h))\n",
    "print(type(child_2_0_h['value'][1]))"
   ]
  },
  {
   "cell_type": "code",
   "execution_count": null,
   "id": "5c18f865",
   "metadata": {},
   "outputs": [],
   "source": [
    "child_1_0_r.shape"
   ]
  },
  {
   "cell_type": "code",
   "execution_count": null,
   "id": "6fd4bc61",
   "metadata": {},
   "outputs": [],
   "source": [
    "print(child_2_0_h.iloc[0])\n",
    "type(child_2_0_h.iloc[0])"
   ]
  },
  {
   "cell_type": "code",
   "execution_count": null,
   "id": "acceb2d4",
   "metadata": {},
   "outputs": [],
   "source": [
    "print(child_2_0_h.iloc[0]['value'])\n",
    "type(child_2_0_h.iloc[0]['value'])"
   ]
  },
  {
   "cell_type": "code",
   "execution_count": null,
   "id": "da4cf643",
   "metadata": {},
   "outputs": [],
   "source": [
    "row = child_2_0_h.iloc[0]"
   ]
  },
  {
   "cell_type": "code",
   "execution_count": null,
   "id": "6a5373d1",
   "metadata": {},
   "outputs": [],
   "source": [
    "row['value']"
   ]
  },
  {
   "cell_type": "code",
   "execution_count": null,
   "id": "4d8852f1",
   "metadata": {},
   "outputs": [],
   "source": [
    "type(row['value'])"
   ]
  },
  {
   "cell_type": "code",
   "execution_count": null,
   "id": "8145c43b",
   "metadata": {},
   "outputs": [],
   "source": [
    "type(child_2_0_h.iloc[1]['value'])"
   ]
  },
  {
   "cell_type": "markdown",
   "id": "6128754f",
   "metadata": {},
   "source": [
    "if you find another level of nesting, just concat what you just did with a bigger list"
   ]
  }
 ],
 "metadata": {
  "kernelspec": {
   "display_name": "Python 3",
   "language": "python",
   "name": "python3"
  },
  "language_info": {
   "codemirror_mode": {
    "name": "ipython",
    "version": 3
   },
   "file_extension": ".py",
   "mimetype": "text/x-python",
   "name": "python",
   "nbconvert_exporter": "python",
   "pygments_lexer": "ipython3",
   "version": "3.8.8"
  }
 },
 "nbformat": 4,
 "nbformat_minor": 5
}
