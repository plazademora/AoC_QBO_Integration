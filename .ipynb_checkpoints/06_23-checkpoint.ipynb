{
 "cells": [
  {
   "cell_type": "code",
   "execution_count": null,
   "id": "8714ce80",
   "metadata": {},
   "outputs": [],
   "source": [
    "import json\n",
    "import pandas as pd"
   ]
  },
  {
   "cell_type": "code",
   "execution_count": null,
   "id": "280d5819",
   "metadata": {},
   "outputs": [],
   "source": [
    "def profit_and_loss(rawdata):\n",
    "child_count = 0\n",
    "for child in child_count:\n",
    "    child_df = normalize(data['Rows.Row'][{row_num}])\n",
    "    child_count += 1\n",
    "    if not 'Rows.Row' in child_df:\n",
    "        if 'Header.ColData' in child_df:\n",
    "            for row in rows: # how to do this block?\n",
    "                child_row = normalize(data['Header.ColData'][{row}])\n",
    "                if child_row[1]['value'] == 0:\n",
    "                    pass\n",
    "                else:\n",
    "                    # add account name, account Id, and value to df\n",
    "        elif data has column 'ColData':\n",
    "            for row in rows:\n",
    "                child_row = normalize(data['ColData'][{row}]\n",
    "                # add account name, account Id, and value to df\n",
    "    else:\n",
    "            profit_and_loss(data)"
   ]
  },
  {
   "cell_type": "code",
   "execution_count": null,
   "id": "59c27380",
   "metadata": {},
   "outputs": [],
   "source": [
    "    \n",
    "    file = open(\"ProfitAndLoss.json\")\n",
    "    data = parse(file)\n",
    "\n",
    "def profit_and_loss(data):\n",
    "\n",
    "b_row_{row_num} = normalize(data['Rows.Row'][{row_num}])\n",
    "\n",
    "    if data DOES NOT have column 'Rows.Row':\n",
    "        if data has column 'Header.ColData':\n",
    "            iterate through row_nums:\n",
    "                b_row_{row_num} = normalize(data['Header.ColData'][{row_num}])\n",
    "                if b_row_{row_num}[1]['value'] == 0:\n",
    "                    pass\n",
    "                else:\n",
    "                    add account name, account Id, and value to df\n",
    "        elif data has column 'ColData':\n",
    "            iterate through row_nums:\n",
    "                b_row_{row_num} = normalize(data['ColData'][{row_num}]\n",
    "                add account name, account Id, and value to df\n",
    "    else:\n",
    "            profit_and_loss(data)"
   ]
  },
  {
   "cell_type": "code",
   "execution_count": 3,
   "id": "dbbd9021",
   "metadata": {},
   "outputs": [],
   "source": [
    "def fib(n):\n",
    "    if n <= 2:\n",
    "        return 1\n",
    "    else:\n",
    "        n = fib(n - 1) + fib(n - 2)\n",
    "        return n"
   ]
  },
  {
   "cell_type": "code",
   "execution_count": 17,
   "id": "e8b963b0",
   "metadata": {},
   "outputs": [
    {
     "data": {
      "text/plain": [
       "144"
      ]
     },
     "execution_count": 17,
     "metadata": {},
     "output_type": "execute_result"
    }
   ],
   "source": [
    "fib(12)"
   ]
  },
  {
   "cell_type": "code",
   "execution_count": 5,
   "id": "b4933c62",
   "metadata": {},
   "outputs": [
    {
     "data": {
      "text/plain": [
       "3"
      ]
     },
     "execution_count": 5,
     "metadata": {},
     "output_type": "execute_result"
    }
   ],
   "source": [
    "fib(4)"
   ]
  },
  {
   "cell_type": "code",
   "execution_count": 6,
   "id": "9b0b6089",
   "metadata": {},
   "outputs": [
    {
     "data": {
      "text/plain": [
       "5"
      ]
     },
     "execution_count": 6,
     "metadata": {},
     "output_type": "execute_result"
    }
   ],
   "source": [
    "fib(5)"
   ]
  },
  {
   "cell_type": "code",
   "execution_count": 7,
   "id": "478498ff",
   "metadata": {},
   "outputs": [
    {
     "data": {
      "text/plain": [
       "8"
      ]
     },
     "execution_count": 7,
     "metadata": {},
     "output_type": "execute_result"
    }
   ],
   "source": [
    "fib(6)"
   ]
  },
  {
   "cell_type": "markdown",
   "id": "a08eff62",
   "metadata": {},
   "source": [
    "## Oh my gosh it works!!!!!!!!!!!!!!!!"
   ]
  },
  {
   "cell_type": "code",
   "execution_count": null,
   "id": "f90aad58",
   "metadata": {},
   "outputs": [],
   "source": [
    "# def frog(n):\n",
    "# #     find how many ways the frog can jump across the river which is n-feet wide\n",
    "# #     he can either jump 1 foot or 2 feet\n",
    "# #     there are n-1 stones in the river\n",
    "# #     the fewest amount of jumps he can take is floor(n/2)\n",
    "# #     the most jumps he can make is n\n",
    "#     for feet in n:\n",
    "        "
   ]
  }
 ],
 "metadata": {
  "kernelspec": {
   "display_name": "Python 3",
   "language": "python",
   "name": "python3"
  },
  "language_info": {
   "codemirror_mode": {
    "name": "ipython",
    "version": 3
   },
   "file_extension": ".py",
   "mimetype": "text/x-python",
   "name": "python",
   "nbconvert_exporter": "python",
   "pygments_lexer": "ipython3",
   "version": "3.8.8"
  }
 },
 "nbformat": 4,
 "nbformat_minor": 5
}
