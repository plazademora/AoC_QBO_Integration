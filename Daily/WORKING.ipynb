{
 "cells": [
  {
   "cell_type": "code",
   "execution_count": null,
   "metadata": {},
   "outputs": [],
   "source": [
    "import pandas as pd\n",
    "import json\n",
    "import csv\n",
    "\n",
    "with open(\"ProfitAndLoss.json\") as f:\n",
    "    rawdata = json.load(f)"
   ]
  },
  {
   "cell_type": "code",
   "execution_count": null,
   "metadata": {},
   "outputs": [],
   "source": [
    "filename = \"test.csv\""
   ]
  },
  {
   "cell_type": "code",
   "execution_count": null,
   "metadata": {},
   "outputs": [],
   "source": [
    "def parse_json(data, list=[]):\n",
    "    \n",
    "    \"\"\"Parse a nested JSON file and write desired values to a CSV file.\"\"\"\n",
    "\n",
    "    if isinstance(data, dict):\n",
    "        data  = pd.json_normalize(data)\n",
    "        parse_json(data, list)\n",
    "    else:\n",
    "            for row in range(data.shape[0]):\n",
    "                try:\n",
    "                    col_data = pd.json_normalize(data['ColData'][row])\n",
    "                    acc_name = col_data['value'][0]\n",
    "                    list.append(acc_name)\n",
    "                    acc_id   = col_data['id'][0]\n",
    "                    list.append(acc_id)\n",
    "                    acc_val  = col_data['value'][1]\n",
    "                    if acc_val == ' ':\n",
    "                        acc_val = \"NA\"\n",
    "                    list.append(acc_val)\n",
    "                    # list.append([acc_name, acc_id, acc_val])\n",
    "                    # print(f\"{acc_name}, {acc_id}, {acc_val}\")\n",
    "                    \n",
    "                except:\n",
    "                    continue\n",
    "            for row in range(data.shape[0]):\n",
    "                try:\n",
    "                    head_data = pd.json_normalize(data['Header.ColData'][row])\n",
    "                    parse_json(head_data, list)\n",
    "                except:\n",
    "                    continue\n",
    "            for row in range(data.shape[0]):\n",
    "                try:\n",
    "                    head_data = pd.json_normalize(data['Header.ColData'][row])\n",
    "                    acc_name = head_data['value'][0]\n",
    "                    acc_id   = head_data['id'][0]\n",
    "                    acc_val  = head_data['value'][1]\n",
    "                    # print(f\"{acc_name}, {acc_id}, {acc_val}\")\n",
    "                except:\n",
    "                    continue\n",
    "            for row in range(data.shape[0]):\n",
    "                try:\n",
    "                    row_data = pd.json_normalize(data['Rows.Row'][row])\n",
    "                    parse_json(row_data, list)\n",
    "                except:\n",
    "                    continue"
   ]
  },
  {
   "cell_type": "code",
   "execution_count": null,
   "metadata": {},
   "outputs": [],
   "source": [
    "list = []\n",
    "parse_json(rawdata, list)"
   ]
  },
  {
   "cell_type": "code",
   "execution_count": null,
   "metadata": {
    "collapsed": true
   },
   "outputs": [],
   "source": [
    "print(list)"
   ]
  },
  {
   "cell_type": "code",
   "execution_count": null,
   "metadata": {},
   "outputs": [],
   "source": [
    "len(list)"
   ]
  },
  {
   "cell_type": "code",
   "execution_count": null,
   "metadata": {},
   "outputs": [],
   "source": [
    "def parse_json(data):\n",
    "    if isinstance(data, dict):\n",
    "        data = pd.json_normalize(data)\n",
    "        parse_json(data)\n",
    "    else:\n",
    "        for row in range(data.shape[0]):\n",
    "            try:\n",
    "                col_data = pd.json_normalize(data['ColData'][row])\n",
    "                acc_name = col_data['value'][0]\n",
    "                acc_id   = col_data['id'][0]\n",
    "                if not col_data['value'][1]:\n",
    "                    print(f\"{acc_name}, {acc_id}, NA\")\n",
    "                else:\n",
    "                    acc_val = col_data['value'][1]\n",
    "                    print(f\"{acc_name}, {acc_id}, {acc_val}\")\n",
    "            except:\n",
    "                continue\n",
    "#         for row in range(data.shape[0]):\n",
    "#             try:\n",
    "#                 head_data = pd.json_normalize(data['Header.ColData'][row])\n",
    "#                 parse_json(head_data)\n",
    "#             except:\n",
    "#                 continue\n",
    "        for row in range(data.shape[0]):\n",
    "            try:\n",
    "                head_data = pd.json_normalize(data['Header.ColData'][row])\n",
    "                acc_name = head_data['value'][0]\n",
    "                acc_id   = head_data['id'][0]\n",
    "                acc_val  = head_data['value'][1]\n",
    "                print(f\"{acc_name}, {acc_id}, {acc_val}\")\n",
    "            except:\n",
    "                continue\n",
    "        for row in range(data.shape[0]):\n",
    "            try:\n",
    "                row_data = pd.json_normalize(data['Rows.Row'][row])\n",
    "                parse_json(row_data)\n",
    "            except:\n",
    "                continue"
   ]
  },
  {
   "cell_type": "code",
   "execution_count": null,
   "metadata": {},
   "outputs": [],
   "source": [
    "parse_json(rawdata)"
   ]
  },
  {
   "cell_type": "code",
   "execution_count": null,
   "metadata": {},
   "outputs": [],
   "source": [
    "def test(data):\n",
    "    if isinstance(data, dict):\n",
    "        data = pd.json_normalize(data)\n",
    "        parse_json(data)\n",
    "    else:\n",
    "        for row in range(data.shape[0]):\n",
    "                col_data = pd.json_normalize(data['ColData'][row])\n",
    "                acc_name = col_data['value'][0]\n",
    "                acc_id   = col_data['id'][0]\n",
    "                if not col_data['value'][1]:\n",
    "                    print(f\"{acc_name}, {acc_id}, NA\")\n",
    "                else:\n",
    "                    acc_val = col_data['value'][1]\n",
    "                    print(f\"{acc_name}, {acc_id}, {acc_val}\")"
   ]
  },
  {
   "cell_type": "code",
   "execution_count": null,
   "metadata": {
    "collapsed": true
   },
   "outputs": [],
   "source": [
    "test(rawdata)"
   ]
  },
  {
   "cell_type": "markdown",
   "metadata": {},
   "source": [
    "Main function below:"
   ]
  },
  {
   "cell_type": "code",
   "execution_count": null,
   "metadata": {},
   "outputs": [],
   "source": [
    "def parse_json(data):\n",
    "    if isinstance(data, dict):\n",
    "        data = pd.json_normalize(data)\n",
    "        parse_json(data)\n",
    "    else:\n",
    "        for row in range(data.shape[0]):\n",
    "            try:\n",
    "                col_data = pd.json_normalize(data['ColData'][row])\n",
    "                acc_name = col_data['value'][0]\n",
    "                acc_id   = col_data['id'][0]\n",
    "                if not col_data['value'][1]:\n",
    "                    print(f\"{acc_name}, {acc_id}, NA\")\n",
    "                else:\n",
    "                    acc_val = col_data['value'][1]\n",
    "                    print(f\"{acc_name}, {acc_id}, {acc_val}\")\n",
    "            except:\n",
    "                pass\n",
    "            try:\n",
    "                head_data = pd.json_normalize(data['Header.ColData'][row])\n",
    "                acc_name = head_data['value'][0]\n",
    "                acc_id   = head_data['id'][0]\n",
    "                acc_val  = head_data['value'][1]\n",
    "                print(f\"{acc_name}, {acc_id}, {acc_val}\")\n",
    "            except:\n",
    "                pass\n",
    "            try:\n",
    "                row_data = pd.json_normalize(data['Rows.Row'][row])\n",
    "                parse_json(row_data)\n",
    "            except:\n",
    "                pass"
   ]
  },
  {
   "cell_type": "code",
   "execution_count": null,
   "metadata": {},
   "outputs": [],
   "source": [
    "parse_json(rawdata)"
   ]
  },
  {
   "cell_type": "code",
   "execution_count": null,
   "metadata": {},
   "outputs": [],
   "source": [
    "count = 0\n",
    "def parse_json_test(data):\n",
    "    global count\n",
    "    if isinstance(data, dict):\n",
    "        data = pd.json_normalize(data)\n",
    "        parse_json_test(data)\n",
    "    else:\n",
    "        for row in range(data.shape[0]):\n",
    "            try:\n",
    "                col_data = pd.json_normalize(data['ColData'][row])\n",
    "                acc_name = col_data['value'][0]\n",
    "                acc_id   = col_data['id'][0]\n",
    "                acc_val = col_data['value'][1]\n",
    "                print(f\"{acc_name}, {acc_id}, {acc_val}\")\n",
    "                count += 1\n",
    "                print(count)\n",
    "            except:\n",
    "                pass\n",
    "            try:\n",
    "                head_data = pd.json_normalize(data['Header.ColData'][row])\n",
    "                acc_name = head_data['value'][0]\n",
    "                acc_id   = head_data['id'][0]\n",
    "                acc_val  = head_data['value'][1]\n",
    "                if not acc_val:\n",
    "                    print(f\"{acc_name}, {acc_id}, NA\")\n",
    "                else:\n",
    "                    print(f\"{acc_name}, {acc_id}, {acc_val}\")\n",
    "                count += 1\n",
    "                print(count)\n",
    "            except:\n",
    "                pass\n",
    "            try:\n",
    "                row_data = pd.json_normalize(data['Rows.Row'][row])\n",
    "                parse_json_test(row_data)\n",
    "            except:\n",
    "                pass"
   ]
  },
  {
   "cell_type": "code",
   "execution_count": null,
   "metadata": {},
   "outputs": [],
   "source": [
    "parse_json_test(rawdata)"
   ]
  },
  {
   "cell_type": "code",
   "execution_count": null,
   "metadata": {},
   "outputs": [],
   "source": [
    "def parse_json_return(data):\n",
    "    # initialize global variables\n",
    "    # initialize pandas dataframe\n",
    "    if isinstance(data, dict):\n",
    "        data = pd.json_normalize(data)\n",
    "        # do recursion on resulting dataframe\n",
    "        return_value = parse_json_return(data)\n",
    "        return return_value\n",
    "    # function returns here\n",
    "    \n",
    "    # brute force dataframe fields and extract values\n",
    "    else:\n",
    "        lst = []\n",
    "        for row in range(data.shape[0]):\n",
    "            # ColData\n",
    "            try:\n",
    "                # normalize by ColData\n",
    "                col_data = pd.json_normalize(data['ColData'][row])\n",
    "                lst.append(parse_record(col_data))\n",
    "            except:\n",
    "                pass\n",
    "            try:\n",
    "                head_data = pd.json_normalize(data['Header.ColData'][row])\n",
    "                lst.append(parse_record(head_data))\n",
    "            except:\n",
    "                pass\n",
    "            try:\n",
    "                row_data = pd.json_normalize(data['Rows.Row'][row])\n",
    "                return_value = parse_json_return(row_data)\n",
    "                lst = lst + return_value\n",
    "            except:\n",
    "                pass\n",
    "        # function returns here\n",
    "        return lst"
   ]
  },
  {
   "cell_type": "code",
   "execution_count": null,
   "metadata": {
    "collapsed": true
   },
   "outputs": [],
   "source": [
    "parse_json_return(rawdata)"
   ]
  },
  {
   "cell_type": "code",
   "execution_count": null,
   "metadata": {},
   "outputs": [],
   "source": []
  },
  {
   "cell_type": "code",
   "execution_count": null,
   "metadata": {},
   "outputs": [],
   "source": [
    "def list_df_csv(lst, filename):\n",
    "    df = pd.DataFrame(lst)\n",
    "    df.to_csv(f\"{filename}.csv\", index = False)"
   ]
  },
  {
   "cell_type": "code",
   "execution_count": null,
   "metadata": {},
   "outputs": [],
   "source": [
    "list_df_csv(parse_json_return(rawdata), \"test3\")"
   ]
  },
  {
   "cell_type": "code",
   "execution_count": null,
   "metadata": {},
   "outputs": [],
   "source": [
    "[1,2] + [3,4]"
   ]
  },
  {
   "cell_type": "code",
   "execution_count": null,
   "metadata": {
    "collapsed": true
   },
   "outputs": [],
   "source": [
    "print(lst)"
   ]
  },
  {
   "cell_type": "code",
   "execution_count": null,
   "metadata": {},
   "outputs": [],
   "source": [
    "df = pd.DataFrame(lst)\n",
    "df"
   ]
  },
  {
   "cell_type": "code",
   "execution_count": null,
   "metadata": {},
   "outputs": [],
   "source": [
    "df.to_csv(\"test2.csv\", index = False)"
   ]
  },
  {
   "cell_type": "code",
   "execution_count": null,
   "metadata": {},
   "outputs": [],
   "source": [
    "def parse_record(data):\n",
    "    acc_name = data['value'][0]\n",
    "    acc_id   = data['id'][0]\n",
    "    acc_val  = data['value'][1]\n",
    "    if not acc_val:\n",
    "        acc_val = \"NA\"\n",
    "    return {'AccountName' : acc_name,\n",
    "            'AccountID' : acc_id,\n",
    "            'AccountValue' : acc_val}"
   ]
  },
  {
   "cell_type": "code",
   "execution_count": null,
   "metadata": {},
   "outputs": [],
   "source": []
  }
 ],
 "metadata": {
  "interpreter": {
   "hash": "4599f1440aafe3bfa5b5e1766045548f2e591843fb04c854c39d505055e5beae"
  },
  "kernelspec": {
   "display_name": "Python 3.8.8 64-bit ('base': conda)",
   "name": "python3"
  },
  "language_info": {
   "name": "python",
   "version": ""
  }
 },
 "nbformat": 4,
 "nbformat_minor": 5
}