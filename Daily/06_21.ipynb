{
 "cells": [
  {
   "cell_type": "code",
   "execution_count": 15,
   "id": "d230beb4",
   "metadata": {},
   "outputs": [],
   "source": [
    "import json\n",
    "import pandas as pd\n",
    "import pathlib as pl"
   ]
  },
  {
   "cell_type": "code",
   "execution_count": 20,
   "id": "0e08b14e",
   "metadata": {},
   "outputs": [
    {
     "name": "stdout",
     "output_type": "stream",
     "text": [
      "<class 'dict'>\n"
     ]
    }
   ],
   "source": [
    "with open(\"C:\\\\Users\\\\paulcassidy\\\\OneDrive - Archdiocese of Chicago\\\\Documents\\\\Repos\\\\QBO_Integration_Scripts\\\\SampleCaptures\\\\ProfitAndLoss.json\") as f:\n",
    "    data = json.load(f)\n",
    "    print(type(data))"
   ]
  },
  {
   "cell_type": "code",
   "execution_count": 6,
   "id": "2c348940",
   "metadata": {},
   "outputs": [
    {
     "data": {
      "text/html": [
       "<div>\n",
       "<style scoped>\n",
       "    .dataframe tbody tr th:only-of-type {\n",
       "        vertical-align: middle;\n",
       "    }\n",
       "\n",
       "    .dataframe tbody tr th {\n",
       "        vertical-align: top;\n",
       "    }\n",
       "\n",
       "    .dataframe thead th {\n",
       "        text-align: right;\n",
       "    }\n",
       "</style>\n",
       "<table border=\"1\" class=\"dataframe\">\n",
       "  <thead>\n",
       "    <tr style=\"text-align: right;\">\n",
       "      <th></th>\n",
       "      <th>Header</th>\n",
       "      <th>Columns</th>\n",
       "      <th>Rows</th>\n",
       "    </tr>\n",
       "  </thead>\n",
       "  <tbody>\n",
       "    <tr>\n",
       "      <th>Time</th>\n",
       "      <td>2021-06-07T12:55:08-07:00</td>\n",
       "      <td>NaN</td>\n",
       "      <td>NaN</td>\n",
       "    </tr>\n",
       "    <tr>\n",
       "      <th>ReportName</th>\n",
       "      <td>ProfitAndLoss</td>\n",
       "      <td>NaN</td>\n",
       "      <td>NaN</td>\n",
       "    </tr>\n",
       "    <tr>\n",
       "      <th>DateMacro</th>\n",
       "      <td>this fiscal year-to-date</td>\n",
       "      <td>NaN</td>\n",
       "      <td>NaN</td>\n",
       "    </tr>\n",
       "    <tr>\n",
       "      <th>ReportBasis</th>\n",
       "      <td>Accrual</td>\n",
       "      <td>NaN</td>\n",
       "      <td>NaN</td>\n",
       "    </tr>\n",
       "    <tr>\n",
       "      <th>StartPeriod</th>\n",
       "      <td>2020-07-01</td>\n",
       "      <td>NaN</td>\n",
       "      <td>NaN</td>\n",
       "    </tr>\n",
       "  </tbody>\n",
       "</table>\n",
       "</div>"
      ],
      "text/plain": [
       "                                Header Columns Rows\n",
       "Time         2021-06-07T12:55:08-07:00     NaN  NaN\n",
       "ReportName               ProfitAndLoss     NaN  NaN\n",
       "DateMacro     this fiscal year-to-date     NaN  NaN\n",
       "ReportBasis                    Accrual     NaN  NaN\n",
       "StartPeriod                 2020-07-01     NaN  NaN"
      ]
     },
     "execution_count": 6,
     "metadata": {},
     "output_type": "execute_result"
    }
   ],
   "source": [
    "path = \"C:\\\\Users\\\\paulcassidy\\\\OneDrive - Archdiocese of Chicago\\\\Documents\\\\Repos\\\\QBO_Integration_Scripts\\\\SampleCaptures\\\\ProfitAndLoss.json\"\n",
    "data_pd = pd.read_json(path)\n",
    "data_pd.head()"
   ]
  },
  {
   "cell_type": "code",
   "execution_count": null,
   "id": "244d7c8d",
   "metadata": {},
   "outputs": [],
   "source": [
    "# dct = []\n",
    "# for i in json_tweets.loc"
   ]
  },
  {
   "cell_type": "code",
   "execution_count": 10,
   "id": "0f0f1d35",
   "metadata": {},
   "outputs": [],
   "source": [
    "g = []\n",
    "def print_dict(v, prefix=''):\n",
    "    if isinstance(v, dict):\n",
    "        for k, v2 in v.items():\n",
    "            p2 = f\"{prefix}.{k}\"\n",
    "            print_dict(v2, p2)\n",
    "    elif isinstance(v, list):\n",
    "        for i, v2 in enumerate(v):\n",
    "            p2 = f\"{prefix}{i}\"\n",
    "            print_dict(v2, p2)\n",
    "    else:\n",
    "        g.append([f\"{prefix}\", v])\n",
    "        \n",
    "    return g"
   ]
  },
  {
   "cell_type": "code",
   "execution_count": 8,
   "id": "3d243e5a",
   "metadata": {},
   "outputs": [],
   "source": [
    "dct = []\n",
    "for i in data_pd:\n",
    "    dct.append([i])"
   ]
  },
  {
   "cell_type": "code",
   "execution_count": 11,
   "id": "2c50e645",
   "metadata": {},
   "outputs": [
    {
     "data": {
      "text/plain": [
       "[['00', 'Header'], ['10', 'Columns'], ['20', 'Rows']]"
      ]
     },
     "execution_count": 11,
     "metadata": {},
     "output_type": "execute_result"
    }
   ],
   "source": [
    "print_dict(dct)"
   ]
  },
  {
   "cell_type": "code",
   "execution_count": 14,
   "id": "0982fbc4",
   "metadata": {},
   "outputs": [
    {
     "name": "stdout",
     "output_type": "stream",
     "text": [
      "Index with key: [['00'], ['10'], ['20'], ['00']]\n",
      "--------------------------\n",
      "Index with values: [('00', 'Header'), ('10', 'Columns'), ('20', 'Rows'), ('00', 'Header')]\n"
     ]
    }
   ],
   "source": [
    "def find_idx_keys_or_vals(dct):\n",
    "    idx_keys=[]\n",
    "    idx_vals=[]\n",
    "    \n",
    "    for j in print_dict(dct):\n",
    "        idx_keys.append(j[0].split(\".\",1)) # split on first occurance of (.)\n",
    "        idx_vals.append((j[0].split(\".\")[0],j[1]))\n",
    "        \n",
    "    return idx_keys, idx_vals\n",
    "\n",
    "idx_keys = find_idx_keys_or_vals(dct)[0]\n",
    "\n",
    "\n",
    "idx_vals = find_idx_keys_or_vals(dct)[1]\n",
    "\n",
    "print(\"Index with key:\", idx_keys[:4])\n",
    "print(\"--------------------------\")\n",
    "print(\"Index with values:\", idx_vals[:4])"
   ]
  },
  {
   "cell_type": "code",
   "execution_count": 19,
   "id": "8b6eaf25",
   "metadata": {},
   "outputs": [
    {
     "data": {
      "text/plain": [
       "{'Header': {'Time': '2021-06-07T12:55:08-07:00',\n",
       "  'ReportName': 'ProfitAndLoss',\n",
       "  'DateMacro': 'this fiscal year-to-date',\n",
       "  'ReportBasis': 'Accrual',\n",
       "  'StartPeriod': '2020-07-01',\n",
       "  'EndPeriod': '2021-06-07',\n",
       "  'SummarizeColumnsBy': 'Total',\n",
       "  'Currency': 'USD',\n",
       "  'Option': [{'Name': 'AccountingStandard', 'Value': 'GAAP'},\n",
       "   {'Name': 'NoReportData', 'Value': 'false'}]}}"
      ]
     },
     "execution_count": 19,
     "metadata": {},
     "output_type": "execute_result"
    }
   ],
   "source": [
    "p = \"C:\\\\Users\\\\paulcassidy\\\\OneDrive - Archdiocese of Chicago\\\\Documents\\\\JSON_Parsing\\\\nested_header.json\"\n",
    "with open(p) as f:\n",
    "    f = json.load(f)\n",
    "    \n",
    "f"
   ]
  },
  {
   "cell_type": "code",
   "execution_count": null,
   "id": "ebdef300",
   "metadata": {},
   "outputs": [],
   "source": [
    "def fetch_default(org, folder, prefix):\n",
    "    dfs = []\n",
    "    for c in range(1, totalCount, 1000):\n",
    "        queryargs = { 'query': 'SELECT * FROM {0} STARTPOSITION {1} MAXRESULTS 1000'.format(org, c) }\n",
    "        url = preurl + urlencode(queryargs)\n",
    "        response = requests.post(url, headers=reqheaders)\n",
    "        print(response.status_code)\n",
    "        rawdata = json.loads(response.content)\n",
    "        dfs.append(pandas.json_normalize(rawdata['QueryResponse'][org]))\n",
    "    finaldf = pandas.concat(dfs)\n",
    "    finaldf['RealmId'] = [realmid] * len(finaldf)\n",
    "    finaldf.to_csv(\"{0}/{1}.csv\".format(folder, prefix), index=False)"
   ]
  },
  {
   "cell_type": "code",
   "execution_count": 21,
   "id": "e58f9b64",
   "metadata": {},
   "outputs": [],
   "source": [
    "# def parse_profit_loss(f):\n",
    "#     dfs = []\n",
    "#     dfs.append(pd.json_normalize(f))\n",
    "#     finaldf = pandas.concat(dfs)\n",
    "#     finaldf['RealmId'] = [\"bruh\"] * len(finaldf)\n",
    "#     finaldf.to_csv(\"C:\\\\Users\\\\paulcassidy\\\\OneDrive - Archdiocese of Chicago\\\\Documents\\\\JSON_Parsing\\\\parse_profit_loss.csv\")"
   ]
  },
  {
   "cell_type": "code",
   "execution_count": 23,
   "id": "c92acae1",
   "metadata": {},
   "outputs": [],
   "source": [
    "# parse_profit_loss(data)"
   ]
  },
  {
   "cell_type": "code",
   "execution_count": 24,
   "id": "0ca84d37",
   "metadata": {},
   "outputs": [
    {
     "data": {
      "text/html": [
       "<div>\n",
       "<style scoped>\n",
       "    .dataframe tbody tr th:only-of-type {\n",
       "        vertical-align: middle;\n",
       "    }\n",
       "\n",
       "    .dataframe tbody tr th {\n",
       "        vertical-align: top;\n",
       "    }\n",
       "\n",
       "    .dataframe thead th {\n",
       "        text-align: right;\n",
       "    }\n",
       "</style>\n",
       "<table border=\"1\" class=\"dataframe\">\n",
       "  <thead>\n",
       "    <tr style=\"text-align: right;\">\n",
       "      <th></th>\n",
       "      <th>Header</th>\n",
       "      <th>Rows</th>\n",
       "      <th>Columns</th>\n",
       "    </tr>\n",
       "  </thead>\n",
       "  <tbody>\n",
       "    <tr>\n",
       "      <th>Customer</th>\n",
       "      <td>1</td>\n",
       "      <td>NaN</td>\n",
       "      <td>NaN</td>\n",
       "    </tr>\n",
       "    <tr>\n",
       "      <th>ReportName</th>\n",
       "      <td>ProfitAndLoss</td>\n",
       "      <td>NaN</td>\n",
       "      <td>NaN</td>\n",
       "    </tr>\n",
       "    <tr>\n",
       "      <th>Option</th>\n",
       "      <td>[{'Name': 'AccountingStandard', 'Value': 'GAAP...</td>\n",
       "      <td>NaN</td>\n",
       "      <td>NaN</td>\n",
       "    </tr>\n",
       "    <tr>\n",
       "      <th>ReportBasis</th>\n",
       "      <td>Accrual</td>\n",
       "      <td>NaN</td>\n",
       "      <td>NaN</td>\n",
       "    </tr>\n",
       "    <tr>\n",
       "      <th>StartPeriod</th>\n",
       "      <td>2015-06-01</td>\n",
       "      <td>NaN</td>\n",
       "      <td>NaN</td>\n",
       "    </tr>\n",
       "  </tbody>\n",
       "</table>\n",
       "</div>"
      ],
      "text/plain": [
       "                                                        Header Rows Columns\n",
       "Customer                                                     1  NaN     NaN\n",
       "ReportName                                       ProfitAndLoss  NaN     NaN\n",
       "Option       [{'Name': 'AccountingStandard', 'Value': 'GAAP...  NaN     NaN\n",
       "ReportBasis                                            Accrual  NaN     NaN\n",
       "StartPeriod                                         2015-06-01  NaN     NaN"
      ]
     },
     "execution_count": 24,
     "metadata": {},
     "output_type": "execute_result"
    }
   ],
   "source": [
    "pd.read_json(\"p_l_test.json\").head()"
   ]
  },
  {
   "cell_type": "code",
   "execution_count": 37,
   "id": "8dcfe80a",
   "metadata": {},
   "outputs": [
    {
     "ename": "TypeError",
     "evalue": "the JSON object must be str, bytes or bytearray, not TextIOWrapper",
     "output_type": "error",
     "traceback": [
      "\u001b[1;31m---------------------------------------------------------------------------\u001b[0m",
      "\u001b[1;31mTypeError\u001b[0m                                 Traceback (most recent call last)",
      "\u001b[1;32m<ipython-input-37-863cc2aae3b3>\u001b[0m in \u001b[0;36m<module>\u001b[1;34m\u001b[0m\n\u001b[0;32m      1\u001b[0m \u001b[1;32mwith\u001b[0m \u001b[0mopen\u001b[0m\u001b[1;33m(\u001b[0m\u001b[1;34m\"C:\\\\Users\\\\paulcassidy\\\\OneDrive - Archdiocese of Chicago\\\\Documents\\\\Repos\\\\QBO_Integration_Scripts\\\\SampleCaptures\\\\ProfitAndLoss.json\"\u001b[0m\u001b[1;33m)\u001b[0m \u001b[1;32mas\u001b[0m \u001b[0mf\u001b[0m\u001b[1;33m:\u001b[0m\u001b[1;33m\u001b[0m\u001b[1;33m\u001b[0m\u001b[0m\n\u001b[1;32m----> 2\u001b[1;33m     \u001b[0mjson\u001b[0m\u001b[1;33m.\u001b[0m\u001b[0mloads\u001b[0m\u001b[1;33m(\u001b[0m\u001b[0mf\u001b[0m\u001b[1;33m)\u001b[0m\u001b[1;33m\u001b[0m\u001b[1;33m\u001b[0m\u001b[0m\n\u001b[0m",
      "\u001b[1;32m~\\Anaconda3\\lib\\json\\__init__.py\u001b[0m in \u001b[0;36mloads\u001b[1;34m(s, cls, object_hook, parse_float, parse_int, parse_constant, object_pairs_hook, **kw)\u001b[0m\n\u001b[0;32m    339\u001b[0m     \u001b[1;32melse\u001b[0m\u001b[1;33m:\u001b[0m\u001b[1;33m\u001b[0m\u001b[1;33m\u001b[0m\u001b[0m\n\u001b[0;32m    340\u001b[0m         \u001b[1;32mif\u001b[0m \u001b[1;32mnot\u001b[0m \u001b[0misinstance\u001b[0m\u001b[1;33m(\u001b[0m\u001b[0ms\u001b[0m\u001b[1;33m,\u001b[0m \u001b[1;33m(\u001b[0m\u001b[0mbytes\u001b[0m\u001b[1;33m,\u001b[0m \u001b[0mbytearray\u001b[0m\u001b[1;33m)\u001b[0m\u001b[1;33m)\u001b[0m\u001b[1;33m:\u001b[0m\u001b[1;33m\u001b[0m\u001b[1;33m\u001b[0m\u001b[0m\n\u001b[1;32m--> 341\u001b[1;33m             raise TypeError(f'the JSON object must be str, bytes or bytearray, '\n\u001b[0m\u001b[0;32m    342\u001b[0m                             f'not {s.__class__.__name__}')\n\u001b[0;32m    343\u001b[0m         \u001b[0ms\u001b[0m \u001b[1;33m=\u001b[0m \u001b[0ms\u001b[0m\u001b[1;33m.\u001b[0m\u001b[0mdecode\u001b[0m\u001b[1;33m(\u001b[0m\u001b[0mdetect_encoding\u001b[0m\u001b[1;33m(\u001b[0m\u001b[0ms\u001b[0m\u001b[1;33m)\u001b[0m\u001b[1;33m,\u001b[0m \u001b[1;34m'surrogatepass'\u001b[0m\u001b[1;33m)\u001b[0m\u001b[1;33m\u001b[0m\u001b[1;33m\u001b[0m\u001b[0m\n",
      "\u001b[1;31mTypeError\u001b[0m: the JSON object must be str, bytes or bytearray, not TextIOWrapper"
     ]
    }
   ],
   "source": [
    "with open(\"C:\\\\Users\\\\paulcassidy\\\\OneDrive - Archdiocese of Chicago\\\\Documents\\\\Repos\\\\QBO_Integration_Scripts\\\\SampleCaptures\\\\ProfitAndLoss.json\") as f:\n",
    "    json.loads(f)"
   ]
  },
  {
   "cell_type": "code",
   "execution_count": null,
   "id": "6323aeb0",
   "metadata": {},
   "outputs": [],
   "source": []
  }
 ],
 "metadata": {
  "kernelspec": {
   "display_name": "Python 3",
   "language": "python",
   "name": "python3"
  },
  "language_info": {
   "codemirror_mode": {
    "name": "ipython",
    "version": 3
   },
   "file_extension": ".py",
   "mimetype": "text/x-python",
   "name": "python",
   "nbconvert_exporter": "python",
   "pygments_lexer": "ipython3",
   "version": "3.8.8"
  }
 },
 "nbformat": 4,
 "nbformat_minor": 5
}
