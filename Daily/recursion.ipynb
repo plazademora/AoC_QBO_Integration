{
 "cells": [
  {
   "cell_type": "code",
   "execution_count": 3,
   "id": "8b26e2e5",
   "metadata": {},
   "outputs": [
    {
     "data": {
      "text/plain": [
       "120"
      ]
     },
     "execution_count": 3,
     "metadata": {},
     "output_type": "execute_result"
    }
   ],
   "source": [
    "def factorial(n):\n",
    "    if n == 1:\n",
    "        return n\n",
    "    else:\n",
    "        return n * factorial(n-1)\n",
    "    \n",
    "factorial(5)"
   ]
  },
  {
   "cell_type": "markdown",
   "id": "d7e49dcb",
   "metadata": {},
   "source": [
    "# Towers of Hanoi\n",
    "base case = only one disk to move\n",
    "base case = when there is only one step to be done"
   ]
  },
  {
   "cell_type": "code",
   "execution_count": 4,
   "id": "4ab19140",
   "metadata": {},
   "outputs": [],
   "source": [
    "def hanoi(n, source, target, spare):\n",
    "    if n > 0:\n",
    "        hanoi(n-1, source, spare, target)\n",
    "        target.append(source.pop())\n",
    "        hanoi(n-1, spare, target, source)"
   ]
  },
  {
   "cell_type": "code",
   "execution_count": 7,
   "id": "97da5261",
   "metadata": {},
   "outputs": [
    {
     "name": "stdout",
     "output_type": "stream",
     "text": [
      "[1, 1, 1, 1, 1, 1, 1, 1, 1, 1, 1, 1, 1, 1, 1, 1, 1, 1, 1, 1, 1, 1, 1, 1]\n"
     ]
    }
   ],
   "source": [
    "def hanoi_vid(n, source, target, spare):\n",
    "    global count\n",
    "    if n > 0:\n",
    "        # Move n - 1 disks from source to spare, so they are out of the way\n",
    "        hanoi(n - 1, source, spare, target)\n",
    "        \n",
    "        # Move the nth disk from source to target\n",
    "        target.append(source.pop())\n",
    "        count = count + 1\n",
    "        \n",
    "        # Move the n - 1 disks spare to target\n",
    "        hanoi(n - 1, spare, target, source)\n",
    "        \n",
    "# Initiate call from source A to target C with auxiliary (spare)\n",
    "num_moves = []\n",
    "for x in range(1, 25):\n",
    "    A = list(range(x, 0, -1))\n",
    "    B = []\n",
    "    C = []\n",
    "    count = 0\n",
    "    hanoi_vid(x, A, C, B)\n",
    "    num_moves.append(count)\n",
    "print(num_moves)"
   ]
  },
  {
   "cell_type": "code",
   "execution_count": null,
   "id": "ef7e2cda",
   "metadata": {},
   "outputs": [],
   "source": []
  }
 ],
 "metadata": {
  "kernelspec": {
   "display_name": "Python 3",
   "language": "python",
   "name": "python3"
  },
  "language_info": {
   "codemirror_mode": {
    "name": "ipython",
    "version": 3
   },
   "file_extension": ".py",
   "mimetype": "text/x-python",
   "name": "python",
   "nbconvert_exporter": "python",
   "pygments_lexer": "ipython3",
   "version": "3.8.8"
  }
 },
 "nbformat": 4,
 "nbformat_minor": 5
}
