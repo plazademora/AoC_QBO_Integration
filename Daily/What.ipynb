{
 "cells": [
  {
   "cell_type": "code",
   "execution_count": 9,
   "id": "5cceddb8",
   "metadata": {},
   "outputs": [],
   "source": [
    "import pandas as pd\n",
    "import json\n",
    "import csv\n",
    "\n",
    "with open(\"ProfitAndLoss.json\") as f:\n",
    "    rawdata = json.load(f)"
   ]
  },
  {
   "cell_type": "code",
   "execution_count": 10,
   "id": "ebb3bc39",
   "metadata": {},
   "outputs": [],
   "source": [
    "def test(data, parse_func):\n",
    "    if isinstance(data, dict):\n",
    "        data = pd.json_normalize(data)\n",
    "        test(data)\n",
    "    else:\n",
    "        for row in range(data.shape[0]):\n",
    "            try:\n",
    "                col_data = pd.json_normalize(data['ColData'][row])\n",
    "                acc_name = col_data['value'][0]\n",
    "                acc_id   = col_data['id'][0]\n",
    "                if not col_data['value'][1]:\n",
    "                    print(f\"{acc_name}, {acc_id}, NA\")\n",
    "                else:\n",
    "                    acc_val = col_data['value'][1]\n",
    "                    print(f\"{acc_name}, {acc_id}, {acc_val}\")\n",
    "            except:\n",
    "                continue"
   ]
  },
  {
   "cell_type": "code",
   "execution_count": 12,
   "id": "7f3457ec",
   "metadata": {},
   "outputs": [
    {
     "name": "stdout",
     "output_type": "stream",
     "text": [
      "None\n"
     ]
    }
   ],
   "source": [
    "test(rawdata)"
   ]
  },
  {
   "cell_type": "code",
   "execution_count": 13,
   "id": "f36af203",
   "metadata": {},
   "outputs": [],
   "source": [
    "def parse_profit_and_loss_record(col_data):\n",
    "    acc_name = col_data['value'][0]\n",
    "    acc_id   = col_data['id'][0]\n",
    "    if not col_data['value'][1]:\n",
    "        print(f\"{acc_name}, {acc_id}, NA\")\n",
    "    else:\n",
    "        acc_val = col_data['value'][1]\n",
    "        print(f\"{acc_name}, {acc_id}, {acc_val}\")\n",
    "    return zip(acc_name, acc_id, acc_val)"
   ]
  },
  {
   "cell_type": "code",
   "execution_count": null,
   "id": "d9c76c21",
   "metadata": {},
   "outputs": [],
   "source": []
  }
 ],
 "metadata": {
  "kernelspec": {
   "display_name": "Python 3",
   "language": "python",
   "name": "python3"
  },
  "language_info": {
   "codemirror_mode": {
    "name": "ipython",
    "version": 3
   },
   "file_extension": ".py",
   "mimetype": "text/x-python",
   "name": "python",
   "nbconvert_exporter": "python",
   "pygments_lexer": "ipython3",
   "version": "3.8.8"
  }
 },
 "nbformat": 4,
 "nbformat_minor": 5
}
