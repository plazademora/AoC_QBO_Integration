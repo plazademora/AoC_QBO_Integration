{
 "cells": [
  {
   "cell_type": "code",
   "execution_count": 5,
   "id": "8e7a4477",
   "metadata": {},
   "outputs": [
    {
     "ename": "ModuleNotFoundError",
     "evalue": "No module named 'intuitlib'",
     "output_type": "error",
     "traceback": [
      "\u001b[1;31m---------------------------------------------------------------------------\u001b[0m",
      "\u001b[1;31mModuleNotFoundError\u001b[0m                       Traceback (most recent call last)",
      "\u001b[1;32m<ipython-input-5-d8e7b135b9cb>\u001b[0m in \u001b[0;36m<module>\u001b[1;34m\u001b[0m\n\u001b[0;32m      2\u001b[0m \u001b[1;32mimport\u001b[0m \u001b[0mrequests\u001b[0m\u001b[1;33m\u001b[0m\u001b[1;33m\u001b[0m\u001b[0m\n\u001b[0;32m      3\u001b[0m \u001b[1;32mimport\u001b[0m \u001b[0mpandas\u001b[0m\u001b[1;33m\u001b[0m\u001b[1;33m\u001b[0m\u001b[0m\n\u001b[1;32m----> 4\u001b[1;33m \u001b[1;32mfrom\u001b[0m \u001b[0mintuitlib\u001b[0m\u001b[1;33m.\u001b[0m\u001b[0mclient\u001b[0m \u001b[1;32mimport\u001b[0m \u001b[0mAuthClient\u001b[0m\u001b[1;33m\u001b[0m\u001b[1;33m\u001b[0m\u001b[0m\n\u001b[0m\u001b[0;32m      5\u001b[0m \u001b[1;32mfrom\u001b[0m \u001b[0murllib\u001b[0m\u001b[1;33m.\u001b[0m\u001b[0mparse\u001b[0m \u001b[1;32mimport\u001b[0m \u001b[0murlencode\u001b[0m\u001b[1;33m\u001b[0m\u001b[1;33m\u001b[0m\u001b[0m\n",
      "\u001b[1;31mModuleNotFoundError\u001b[0m: No module named 'intuitlib'"
     ]
    }
   ],
   "source": [
    "import json\n",
    "import requests\n",
    "import pandas\n",
    "from intuitlib.client import AuthClient\n",
    "from urllib.parse import urlencode"
   ]
  },
  {
   "cell_type": "code",
   "execution_count": 3,
   "id": "6ae59d1c",
   "metadata": {},
   "outputs": [],
   "source": [
    "path = \"C:\\\\Users\\\\paulcassidy\\\\OneDrive - Archdiocese of Chicago\\\\Documents\\\\JSON_Parsing\\\\p_l_test.json\""
   ]
  },
  {
   "cell_type": "code",
   "execution_count": 4,
   "id": "eeb99383",
   "metadata": {},
   "outputs": [
    {
     "name": "stdout",
     "output_type": "stream",
     "text": [
      "<class 'dict'>\n"
     ]
    }
   ],
   "source": [
    "with open(path) as f:\n",
    "    data = json.load(f)\n",
    "    print(type(data))"
   ]
  },
  {
   "cell_type": "code",
   "execution_count": 6,
   "id": "b0ccc76b",
   "metadata": {},
   "outputs": [],
   "source": [
    "def fetch_default(org, folder, prefix):\n",
    "    dfs = []\n",
    "    for c in range(1, totalCount, 1000):\n",
    "        queryargs = { 'query': 'SELECT * FROM {0} STARTPOSITION {1} MAXRESULTS 1000'.format(org, c) }\n",
    "        url = preurl + urlencode(queryargs)\n",
    "        response = requests.post(url, headers=reqheaders)\n",
    "        print(response.status_code)\n",
    "        rawdata = json.loads(response.content)\n",
    "        dfs.append(pandas.json_normalize(rawdata['QueryResponse'][org]))\n",
    "    finaldf = pandas.concat(dfs)\n",
    "    finaldf['RealmId'] = [realmid] * len(finaldf)\n",
    "    finaldf.to_csv(\"{0}/{1}.csv\".format(folder, prefix), index=False)"
   ]
  },
  {
   "cell_type": "code",
   "execution_count": 7,
   "id": "cd40b710",
   "metadata": {},
   "outputs": [],
   "source": [
    "def fetch_je(folder, prefix):\n",
    "    dfs = []\n",
    "    dfs_lines = []\n",
    "    for c in range(1, totalCount, 1000):\n",
    "        queryargs = { 'query': 'SELECT * FROM JournalEntry STARTPOSITION {0} MAXRESULTS 1000'.format(c) }\n",
    "        url = preurl + urlencode(queryargs)\n",
    "        response = requests.post(url, headers=reqheaders)\n",
    "        print(response.status_code)\n",
    "        rawdata = json.loads(response.content)\n",
    "        jes = rawdata['QueryResponse']['JournalEntry']\n",
    "        lines = []\n",
    "        for je in jes:\n",
    "            line = je.pop('Line', None)\n",
    "            line = [detail | {'JournalEntry_id': je['Id']} for detail in line]\n",
    "            lines += line\n",
    "        dfs_lines.append(pandas.json_normalize(lines))\n",
    "        dfs.append(pandas.json_normalize(jes))\n",
    "    finaldf = pandas.concat(dfs)\n",
    "    finaldf_lines = pandas.concat(dfs_lines)\n",
    "    finaldf['RealmId'] = [realmid] * len(finaldf)\n",
    "    finaldf_lines['RealmId'] = [realmid] * len(finaldf_lines)\n",
    "    finaldf.to_csv(\"{0}/{1}.csv\".format(folder, prefix), index=False)\n",
    "    finaldf_lines.to_csv(\"{0}/{1}.Lines.csv\".format(folder, prefix), index=False)\n"
   ]
  },
  {
   "cell_type": "code",
   "execution_count": null,
   "id": "25a8c83e",
   "metadata": {},
   "outputs": [],
   "source": [
    "def fetch_pl(folder, prefix)\n",
    "dfs = []"
   ]
  }
 ],
 "metadata": {
  "kernelspec": {
   "display_name": "Python 3",
   "language": "python",
   "name": "python3"
  },
  "language_info": {
   "codemirror_mode": {
    "name": "ipython",
    "version": 3
   },
   "file_extension": ".py",
   "mimetype": "text/x-python",
   "name": "python",
   "nbconvert_exporter": "python",
   "pygments_lexer": "ipython3",
   "version": "3.8.8"
  }
 },
 "nbformat": 4,
 "nbformat_minor": 5
}
