{
 "cells": [
  {
   "cell_type": "code",
   "execution_count": 2,
   "id": "8c921154",
   "metadata": {},
   "outputs": [],
   "source": [
    "import pandas as pd\n",
    "import json\n",
    "\n",
    "with open(\"ProfitAndLoss.json\") as f:\n",
    "    rawdata = json.load(f)"
   ]
  },
  {
   "cell_type": "code",
   "execution_count": null,
   "id": "f4c6a699",
   "metadata": {},
   "outputs": [],
   "source": []
  },
  {
   "cell_type": "code",
   "execution_count": null,
   "id": "3a566239",
   "metadata": {},
   "outputs": [],
   "source": [
    "def parse_json(data):\n",
    "    \"\"\"\n",
    "    Find the data.\n",
    "    \"\"\"\n",
    "    global child_count\n",
    "    if isinstance(data, dict):\n",
    "        data = pd.json_normalize(data)\n",
    "        parse_json(data)\n",
    "    elif isinstance(data, pandas.core.frame.DataFrame):\n",
    "        for row in data.shape[0]:\n",
    "            try:\n",
    "                row_norm = pd.json_normalize(data['Rows.Row'][row])\n",
    "                if 'Rows.Row' in row_norm: # and isinstance(row_norm, pandas.core.frame.DataFrame):\n",
    "                    parse_json(row_norm)\n",
    "            except:\n",
    "                continue\n",
    "        if 'type' in data and data['type'] == 'data': # will always be coldata, always df \n",
    "            # iterate through rows\n",
    "            for row in data.shape[0]:\n",
    "                try:\n",
    "                    row_norm = pd.json_normalize(data['ColData'][row])\n",
    "                    acc_name = row_norm['value'][0]\n",
    "                    acc_id   = row_norm['id'][0]\n",
    "                    acc_val  = row_norm['value'][1]\n",
    "                    child_count += 1\n",
    "                    \n",
    "                    ##### add all of these to df, list, dict??\n",
    "                except:\n",
    "                    pass\n",
    "        elif 'Header.ColData' in data:\n",
    "            for row in data.shape[0]:\n",
    "                try:\n",
    "                    row_norm = pd.json_normalize(data['Header.ColData'][row])\n",
    "                    if isinstance(row_norm, pandas.core.frame.DataFrame) and 'id' not in row_norm:\n",
    "                        continue\n",
    "                    elif isinstance(row_norm, pandas.core.frame.DataFrame): \n",
    "                        acc_name = row_norm['value'][0]\n",
    "                        acc_id   = row_norm['id'][0]\n",
    "                        acc_val  = row_norm['value'][1]\n",
    "                        df       = pd.DataFrame([acc_name, acc_id, acc_val],\n",
    "                                               columns=['AccountName',\n",
    "                                                       'AccountID',\n",
    "                                                       'AccountValue'])\n",
    "                    # it if is just one row with account value\n",
    "                    elif isinstance(row_norm, pandas.core.series.Series):\n",
    "                        acc_name = row_norm['value'][0]\n",
    "                        acc_id   = row_norm['id'][0]\n",
    "                        acc_val  = row_norm['value'][1]\n",
    "                        df       = pd.DataFrame([acc_name, acc_id, acc_val],\n",
    "                                               columns=['AccountName',\n",
    "                                                       'AccountID',\n",
    "                                                       'AccountValue'])\n",
    "                        # add row_norm['value'] to df, list, dict?\n",
    "                except:\n",
    "                    continue\n",
    "            elif \n",
    "                # if it is just one row with account name                   "
   ]
  },
  {
   "cell_type": "code",
   "execution_count": null,
   "id": "8e4e8c26",
   "metadata": {},
   "outputs": [],
   "source": []
  }
 ],
 "metadata": {
  "kernelspec": {
   "display_name": "Python 3",
   "language": "python",
   "name": "python3"
  },
  "language_info": {
   "codemirror_mode": {
    "name": "ipython",
    "version": 3
   },
   "file_extension": ".py",
   "mimetype": "text/x-python",
   "name": "python",
   "nbconvert_exporter": "python",
   "pygments_lexer": "ipython3",
   "version": "3.8.8"
  }
 },
 "nbformat": 4,
 "nbformat_minor": 5
}
