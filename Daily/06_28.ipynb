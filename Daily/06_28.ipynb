{
 "cells": [
  {
   "cell_type": "code",
   "execution_count": 1,
   "id": "8c921154",
   "metadata": {},
   "outputs": [],
   "source": [
    "import pandas as pd\n",
    "import json\n",
    "\n",
    "with open(\"ProfitAndLoss.json\") as f:\n",
    "    rawdata = json.load(f)"
   ]
  },
  {
   "cell_type": "code",
   "execution_count": 2,
   "id": "38f5c868",
   "metadata": {},
   "outputs": [
    {
     "data": {
      "text/plain": [
       "pandas.core.frame.DataFrame"
      ]
     },
     "execution_count": 2,
     "metadata": {},
     "output_type": "execute_result"
    }
   ],
   "source": [
    "type(pd.json_normalize(rawdata))"
   ]
  },
  {
   "cell_type": "code",
   "execution_count": null,
   "id": "de6b794c",
   "metadata": {},
   "outputs": [],
   "source": [
    "type(child_2_0_h['value'])"
   ]
  },
  {
   "cell_type": "code",
   "execution_count": null,
   "id": "7cbaf612",
   "metadata": {},
   "outputs": [],
   "source": [
    "type(child_2_0_h.iloc[0])"
   ]
  },
  {
   "cell_type": "code",
   "execution_count": null,
   "id": "9038bf18",
   "metadata": {},
   "outputs": [],
   "source": [
    "def check_col(data):\n",
    "    \"\"\"\n",
    "    Find the data.\n",
    "    \"\"\"\n",
    "    ## \n",
    "    # abstract normalizing for each column case\n",
    "    ##\n",
    "    global child_count\n",
    "    if isinstance(data, pandas.core.frame.DataFrame): # check if already normalized to df\n",
    "        if 'type' in data and data['type'] == 'data': # will always be coldata, always df \n",
    "            # iterate through rows\n",
    "            for row in data.shape[0]:\n",
    "                try:\n",
    "                    row_norm = pd.json_normalize(data['ColData'][row])\n",
    "                    acc_name = row_norm['value'][0]\n",
    "                    acc_id   = row_norm['id'][0]\n",
    "                    acc_val  = row_norm['value'][1]\n",
    "                    child_count += 1\n",
    "                    \n",
    "                    ##### add all of these to df, list, dict??\n",
    "                except:\n",
    "                    pass\n",
    "        elif 'Header.ColData' in data:\n",
    "            for row in data.shape[0]:\n",
    "                try:\n",
    "                    row_norm = pd.json_normalize(data['Header.ColData'][row])\n",
    "                    if isinstance(row_norm, pandas.core.frame.DataFrame) and 'id' not in row_norm:\n",
    "                        continue\n",
    "                    elif isinstance(row_norm, pandas.core.frame.DataFrame): \n",
    "                        acc_name = row_norm['value'][0]\n",
    "                        acc_id   = row_norm['id'][0]\n",
    "                        acc_val  = row_norm['value'][1]\n",
    "                        df       = pd.DataFrame([acc_name, acc_id, acc_val],\n",
    "                                               columns=['AccountName',\n",
    "                                                       'AccountID',\n",
    "                                                       'AccountValue'])\n",
    "                    # it if is just one row with account value\n",
    "                    elif isinstance(row_norm, pandas.core.series.Series):\n",
    "                        acc_name = row_norm['value'][0]\n",
    "                        acc_id   = row_norm['id'][0]\n",
    "                        acc_val  = row_norm['value'][1]\n",
    "                        df       = pd.DataFrame([acc_name, acc_id, acc_val],\n",
    "                                               columns=['AccountName',\n",
    "                                                       'AccountID',\n",
    "                                                       'AccountValue'])\n",
    "                        # add row_norm['value'] to df, list, dict?\n",
    "                except:\n",
    "                    continue\n",
    "            elif \n",
    "                # if it is just one row with account name                   "
   ]
  },
  {
   "cell_type": "code",
   "execution_count": 3,
   "id": "c753868c",
   "metadata": {},
   "outputs": [
    {
     "data": {
      "text/html": [
       "<div>\n",
       "<style scoped>\n",
       "    .dataframe tbody tr th:only-of-type {\n",
       "        vertical-align: middle;\n",
       "    }\n",
       "\n",
       "    .dataframe tbody tr th {\n",
       "        vertical-align: top;\n",
       "    }\n",
       "\n",
       "    .dataframe thead th {\n",
       "        text-align: right;\n",
       "    }\n",
       "</style>\n",
       "<table border=\"1\" class=\"dataframe\">\n",
       "  <thead>\n",
       "    <tr style=\"text-align: right;\">\n",
       "      <th></th>\n",
       "      <th>Header.Time</th>\n",
       "      <th>Header.ReportName</th>\n",
       "      <th>Header.DateMacro</th>\n",
       "      <th>Header.ReportBasis</th>\n",
       "      <th>Header.StartPeriod</th>\n",
       "      <th>Header.EndPeriod</th>\n",
       "      <th>Header.SummarizeColumnsBy</th>\n",
       "      <th>Header.Currency</th>\n",
       "      <th>Header.Option</th>\n",
       "      <th>Columns.Column</th>\n",
       "      <th>Rows.Row</th>\n",
       "    </tr>\n",
       "  </thead>\n",
       "  <tbody>\n",
       "    <tr>\n",
       "      <th>0</th>\n",
       "      <td>2021-06-07T12:55:08-07:00</td>\n",
       "      <td>ProfitAndLoss</td>\n",
       "      <td>this fiscal year-to-date</td>\n",
       "      <td>Accrual</td>\n",
       "      <td>2020-07-01</td>\n",
       "      <td>2021-06-07</td>\n",
       "      <td>Total</td>\n",
       "      <td>USD</td>\n",
       "      <td>[{'Name': 'AccountingStandard', 'Value': 'GAAP...</td>\n",
       "      <td>[{'ColTitle': '', 'ColType': 'Account', 'MetaD...</td>\n",
       "      <td>[{'Header': {'ColData': [{'value': 'Income'}, ...</td>\n",
       "    </tr>\n",
       "  </tbody>\n",
       "</table>\n",
       "</div>"
      ],
      "text/plain": [
       "                 Header.Time Header.ReportName          Header.DateMacro  \\\n",
       "0  2021-06-07T12:55:08-07:00     ProfitAndLoss  this fiscal year-to-date   \n",
       "\n",
       "  Header.ReportBasis Header.StartPeriod Header.EndPeriod  \\\n",
       "0            Accrual         2020-07-01       2021-06-07   \n",
       "\n",
       "  Header.SummarizeColumnsBy Header.Currency  \\\n",
       "0                     Total             USD   \n",
       "\n",
       "                                       Header.Option  \\\n",
       "0  [{'Name': 'AccountingStandard', 'Value': 'GAAP...   \n",
       "\n",
       "                                      Columns.Column  \\\n",
       "0  [{'ColTitle': '', 'ColType': 'Account', 'MetaD...   \n",
       "\n",
       "                                            Rows.Row  \n",
       "0  [{'Header': {'ColData': [{'value': 'Income'}, ...  "
      ]
     },
     "execution_count": 3,
     "metadata": {},
     "output_type": "execute_result"
    }
   ],
   "source": [
    "child_0 = pd.json_normalize(rawdata)\n",
    "child_0"
   ]
  },
  {
   "cell_type": "code",
   "execution_count": 40,
   "id": "8e9a118d",
   "metadata": {},
   "outputs": [
    {
     "ename": "AttributeError",
     "evalue": "'str' object has no attribute 'values'",
     "output_type": "error",
     "traceback": [
      "\u001b[1;31m---------------------------------------------------------------------------\u001b[0m",
      "\u001b[1;31mAttributeError\u001b[0m                            Traceback (most recent call last)",
      "\u001b[1;32m<ipython-input-40-b866cdbda535>\u001b[0m in \u001b[0;36m<module>\u001b[1;34m\u001b[0m\n\u001b[1;32m----> 1\u001b[1;33m \u001b[0mpd\u001b[0m\u001b[1;33m.\u001b[0m\u001b[0mjson_normalize\u001b[0m\u001b[1;33m(\u001b[0m\u001b[0mchild_0\u001b[0m\u001b[1;33m)\u001b[0m\u001b[1;33m\u001b[0m\u001b[1;33m\u001b[0m\u001b[0m\n\u001b[0m",
      "\u001b[1;32m~\\Anaconda3\\lib\\site-packages\\pandas\\io\\json\\_normalize.py\u001b[0m in \u001b[0;36m_json_normalize\u001b[1;34m(data, record_path, meta, meta_prefix, record_prefix, errors, sep, max_level)\u001b[0m\n\u001b[0;32m    268\u001b[0m \u001b[1;33m\u001b[0m\u001b[0m\n\u001b[0;32m    269\u001b[0m     \u001b[1;32mif\u001b[0m \u001b[0mrecord_path\u001b[0m \u001b[1;32mis\u001b[0m \u001b[1;32mNone\u001b[0m\u001b[1;33m:\u001b[0m\u001b[1;33m\u001b[0m\u001b[1;33m\u001b[0m\u001b[0m\n\u001b[1;32m--> 270\u001b[1;33m         \u001b[1;32mif\u001b[0m \u001b[0many\u001b[0m\u001b[1;33m(\u001b[0m\u001b[1;33m[\u001b[0m\u001b[0misinstance\u001b[0m\u001b[1;33m(\u001b[0m\u001b[0mx\u001b[0m\u001b[1;33m,\u001b[0m \u001b[0mdict\u001b[0m\u001b[1;33m)\u001b[0m \u001b[1;32mfor\u001b[0m \u001b[0mx\u001b[0m \u001b[1;32min\u001b[0m \u001b[0my\u001b[0m\u001b[1;33m.\u001b[0m\u001b[0mvalues\u001b[0m\u001b[1;33m(\u001b[0m\u001b[1;33m)\u001b[0m\u001b[1;33m]\u001b[0m \u001b[1;32mfor\u001b[0m \u001b[0my\u001b[0m \u001b[1;32min\u001b[0m \u001b[0mdata\u001b[0m\u001b[1;33m)\u001b[0m\u001b[1;33m:\u001b[0m\u001b[1;33m\u001b[0m\u001b[1;33m\u001b[0m\u001b[0m\n\u001b[0m\u001b[0;32m    271\u001b[0m             \u001b[1;31m# naive normalization, this is idempotent for flat records\u001b[0m\u001b[1;33m\u001b[0m\u001b[1;33m\u001b[0m\u001b[1;33m\u001b[0m\u001b[0m\n\u001b[0;32m    272\u001b[0m             \u001b[1;31m# and potentially will inflate the data considerably for\u001b[0m\u001b[1;33m\u001b[0m\u001b[1;33m\u001b[0m\u001b[1;33m\u001b[0m\u001b[0m\n",
      "\u001b[1;32m~\\Anaconda3\\lib\\site-packages\\pandas\\io\\json\\_normalize.py\u001b[0m in \u001b[0;36m<genexpr>\u001b[1;34m(.0)\u001b[0m\n\u001b[0;32m    268\u001b[0m \u001b[1;33m\u001b[0m\u001b[0m\n\u001b[0;32m    269\u001b[0m     \u001b[1;32mif\u001b[0m \u001b[0mrecord_path\u001b[0m \u001b[1;32mis\u001b[0m \u001b[1;32mNone\u001b[0m\u001b[1;33m:\u001b[0m\u001b[1;33m\u001b[0m\u001b[1;33m\u001b[0m\u001b[0m\n\u001b[1;32m--> 270\u001b[1;33m         \u001b[1;32mif\u001b[0m \u001b[0many\u001b[0m\u001b[1;33m(\u001b[0m\u001b[1;33m[\u001b[0m\u001b[0misinstance\u001b[0m\u001b[1;33m(\u001b[0m\u001b[0mx\u001b[0m\u001b[1;33m,\u001b[0m \u001b[0mdict\u001b[0m\u001b[1;33m)\u001b[0m \u001b[1;32mfor\u001b[0m \u001b[0mx\u001b[0m \u001b[1;32min\u001b[0m \u001b[0my\u001b[0m\u001b[1;33m.\u001b[0m\u001b[0mvalues\u001b[0m\u001b[1;33m(\u001b[0m\u001b[1;33m)\u001b[0m\u001b[1;33m]\u001b[0m \u001b[1;32mfor\u001b[0m \u001b[0my\u001b[0m \u001b[1;32min\u001b[0m \u001b[0mdata\u001b[0m\u001b[1;33m)\u001b[0m\u001b[1;33m:\u001b[0m\u001b[1;33m\u001b[0m\u001b[1;33m\u001b[0m\u001b[0m\n\u001b[0m\u001b[0;32m    271\u001b[0m             \u001b[1;31m# naive normalization, this is idempotent for flat records\u001b[0m\u001b[1;33m\u001b[0m\u001b[1;33m\u001b[0m\u001b[1;33m\u001b[0m\u001b[0m\n\u001b[0;32m    272\u001b[0m             \u001b[1;31m# and potentially will inflate the data considerably for\u001b[0m\u001b[1;33m\u001b[0m\u001b[1;33m\u001b[0m\u001b[1;33m\u001b[0m\u001b[0m\n",
      "\u001b[1;31mAttributeError\u001b[0m: 'str' object has no attribute 'values'"
     ]
    }
   ],
   "source": [
    "pd.json_normalize(child_0)"
   ]
  },
  {
   "cell_type": "code",
   "execution_count": 41,
   "id": "56d5d322",
   "metadata": {},
   "outputs": [
    {
     "ename": "KeyError",
     "evalue": "'ColData'",
     "output_type": "error",
     "traceback": [
      "\u001b[1;31m---------------------------------------------------------------------------\u001b[0m",
      "\u001b[1;31mKeyError\u001b[0m                                  Traceback (most recent call last)",
      "\u001b[1;32m~\\Anaconda3\\lib\\site-packages\\pandas\\core\\indexes\\base.py\u001b[0m in \u001b[0;36mget_loc\u001b[1;34m(self, key, method, tolerance)\u001b[0m\n\u001b[0;32m   3079\u001b[0m             \u001b[1;32mtry\u001b[0m\u001b[1;33m:\u001b[0m\u001b[1;33m\u001b[0m\u001b[1;33m\u001b[0m\u001b[0m\n\u001b[1;32m-> 3080\u001b[1;33m                 \u001b[1;32mreturn\u001b[0m \u001b[0mself\u001b[0m\u001b[1;33m.\u001b[0m\u001b[0m_engine\u001b[0m\u001b[1;33m.\u001b[0m\u001b[0mget_loc\u001b[0m\u001b[1;33m(\u001b[0m\u001b[0mcasted_key\u001b[0m\u001b[1;33m)\u001b[0m\u001b[1;33m\u001b[0m\u001b[1;33m\u001b[0m\u001b[0m\n\u001b[0m\u001b[0;32m   3081\u001b[0m             \u001b[1;32mexcept\u001b[0m \u001b[0mKeyError\u001b[0m \u001b[1;32mas\u001b[0m \u001b[0merr\u001b[0m\u001b[1;33m:\u001b[0m\u001b[1;33m\u001b[0m\u001b[1;33m\u001b[0m\u001b[0m\n",
      "\u001b[1;32mpandas\\_libs\\index.pyx\u001b[0m in \u001b[0;36mpandas._libs.index.IndexEngine.get_loc\u001b[1;34m()\u001b[0m\n",
      "\u001b[1;32mpandas\\_libs\\index.pyx\u001b[0m in \u001b[0;36mpandas._libs.index.IndexEngine.get_loc\u001b[1;34m()\u001b[0m\n",
      "\u001b[1;32mpandas\\_libs\\hashtable_class_helper.pxi\u001b[0m in \u001b[0;36mpandas._libs.hashtable.PyObjectHashTable.get_item\u001b[1;34m()\u001b[0m\n",
      "\u001b[1;32mpandas\\_libs\\hashtable_class_helper.pxi\u001b[0m in \u001b[0;36mpandas._libs.hashtable.PyObjectHashTable.get_item\u001b[1;34m()\u001b[0m\n",
      "\u001b[1;31mKeyError\u001b[0m: 'ColData'",
      "\nThe above exception was the direct cause of the following exception:\n",
      "\u001b[1;31mKeyError\u001b[0m                                  Traceback (most recent call last)",
      "\u001b[1;32m<ipython-input-41-1b792926c84d>\u001b[0m in \u001b[0;36m<module>\u001b[1;34m\u001b[0m\n\u001b[1;32m----> 1\u001b[1;33m \u001b[0mpd\u001b[0m\u001b[1;33m.\u001b[0m\u001b[0mjson_normalize\u001b[0m\u001b[1;33m(\u001b[0m\u001b[0mchild_1\u001b[0m\u001b[1;33m[\u001b[0m\u001b[1;34m'ColData'\u001b[0m\u001b[1;33m]\u001b[0m\u001b[1;33m)\u001b[0m\u001b[1;33m\u001b[0m\u001b[1;33m\u001b[0m\u001b[0m\n\u001b[0m",
      "\u001b[1;32m~\\Anaconda3\\lib\\site-packages\\pandas\\core\\frame.py\u001b[0m in \u001b[0;36m__getitem__\u001b[1;34m(self, key)\u001b[0m\n\u001b[0;32m   3022\u001b[0m             \u001b[1;32mif\u001b[0m \u001b[0mself\u001b[0m\u001b[1;33m.\u001b[0m\u001b[0mcolumns\u001b[0m\u001b[1;33m.\u001b[0m\u001b[0mnlevels\u001b[0m \u001b[1;33m>\u001b[0m \u001b[1;36m1\u001b[0m\u001b[1;33m:\u001b[0m\u001b[1;33m\u001b[0m\u001b[1;33m\u001b[0m\u001b[0m\n\u001b[0;32m   3023\u001b[0m                 \u001b[1;32mreturn\u001b[0m \u001b[0mself\u001b[0m\u001b[1;33m.\u001b[0m\u001b[0m_getitem_multilevel\u001b[0m\u001b[1;33m(\u001b[0m\u001b[0mkey\u001b[0m\u001b[1;33m)\u001b[0m\u001b[1;33m\u001b[0m\u001b[1;33m\u001b[0m\u001b[0m\n\u001b[1;32m-> 3024\u001b[1;33m             \u001b[0mindexer\u001b[0m \u001b[1;33m=\u001b[0m \u001b[0mself\u001b[0m\u001b[1;33m.\u001b[0m\u001b[0mcolumns\u001b[0m\u001b[1;33m.\u001b[0m\u001b[0mget_loc\u001b[0m\u001b[1;33m(\u001b[0m\u001b[0mkey\u001b[0m\u001b[1;33m)\u001b[0m\u001b[1;33m\u001b[0m\u001b[1;33m\u001b[0m\u001b[0m\n\u001b[0m\u001b[0;32m   3025\u001b[0m             \u001b[1;32mif\u001b[0m \u001b[0mis_integer\u001b[0m\u001b[1;33m(\u001b[0m\u001b[0mindexer\u001b[0m\u001b[1;33m)\u001b[0m\u001b[1;33m:\u001b[0m\u001b[1;33m\u001b[0m\u001b[1;33m\u001b[0m\u001b[0m\n\u001b[0;32m   3026\u001b[0m                 \u001b[0mindexer\u001b[0m \u001b[1;33m=\u001b[0m \u001b[1;33m[\u001b[0m\u001b[0mindexer\u001b[0m\u001b[1;33m]\u001b[0m\u001b[1;33m\u001b[0m\u001b[1;33m\u001b[0m\u001b[0m\n",
      "\u001b[1;32m~\\Anaconda3\\lib\\site-packages\\pandas\\core\\indexes\\base.py\u001b[0m in \u001b[0;36mget_loc\u001b[1;34m(self, key, method, tolerance)\u001b[0m\n\u001b[0;32m   3080\u001b[0m                 \u001b[1;32mreturn\u001b[0m \u001b[0mself\u001b[0m\u001b[1;33m.\u001b[0m\u001b[0m_engine\u001b[0m\u001b[1;33m.\u001b[0m\u001b[0mget_loc\u001b[0m\u001b[1;33m(\u001b[0m\u001b[0mcasted_key\u001b[0m\u001b[1;33m)\u001b[0m\u001b[1;33m\u001b[0m\u001b[1;33m\u001b[0m\u001b[0m\n\u001b[0;32m   3081\u001b[0m             \u001b[1;32mexcept\u001b[0m \u001b[0mKeyError\u001b[0m \u001b[1;32mas\u001b[0m \u001b[0merr\u001b[0m\u001b[1;33m:\u001b[0m\u001b[1;33m\u001b[0m\u001b[1;33m\u001b[0m\u001b[0m\n\u001b[1;32m-> 3082\u001b[1;33m                 \u001b[1;32mraise\u001b[0m \u001b[0mKeyError\u001b[0m\u001b[1;33m(\u001b[0m\u001b[0mkey\u001b[0m\u001b[1;33m)\u001b[0m \u001b[1;32mfrom\u001b[0m \u001b[0merr\u001b[0m\u001b[1;33m\u001b[0m\u001b[1;33m\u001b[0m\u001b[0m\n\u001b[0m\u001b[0;32m   3083\u001b[0m \u001b[1;33m\u001b[0m\u001b[0m\n\u001b[0;32m   3084\u001b[0m         \u001b[1;32mif\u001b[0m \u001b[0mtolerance\u001b[0m \u001b[1;32mis\u001b[0m \u001b[1;32mnot\u001b[0m \u001b[1;32mNone\u001b[0m\u001b[1;33m:\u001b[0m\u001b[1;33m\u001b[0m\u001b[1;33m\u001b[0m\u001b[0m\n",
      "\u001b[1;31mKeyError\u001b[0m: 'ColData'"
     ]
    }
   ],
   "source": [
    "pd.json_normalize(child_1['ColData'])"
   ]
  },
  {
   "cell_type": "code",
   "execution_count": 12,
   "id": "5b609912",
   "metadata": {},
   "outputs": [
    {
     "data": {
      "text/html": [
       "<div>\n",
       "<style scoped>\n",
       "    .dataframe tbody tr th:only-of-type {\n",
       "        vertical-align: middle;\n",
       "    }\n",
       "\n",
       "    .dataframe tbody tr th {\n",
       "        vertical-align: top;\n",
       "    }\n",
       "\n",
       "    .dataframe thead th {\n",
       "        text-align: right;\n",
       "    }\n",
       "</style>\n",
       "<table border=\"1\" class=\"dataframe\">\n",
       "  <thead>\n",
       "    <tr style=\"text-align: right;\">\n",
       "      <th></th>\n",
       "      <th>type</th>\n",
       "      <th>group</th>\n",
       "      <th>Header.ColData</th>\n",
       "      <th>Rows.Row</th>\n",
       "      <th>Summary.ColData</th>\n",
       "    </tr>\n",
       "  </thead>\n",
       "  <tbody>\n",
       "    <tr>\n",
       "      <th>0</th>\n",
       "      <td>Section</td>\n",
       "      <td>Income</td>\n",
       "      <td>[{'value': 'Income'}, {'value': ''}]</td>\n",
       "      <td>[{'Header': {'ColData': [{'value': '3000 Sunda...</td>\n",
       "      <td>[{'value': 'Total Income'}, {'value': '6036637...</td>\n",
       "    </tr>\n",
       "    <tr>\n",
       "      <th>1</th>\n",
       "      <td>Section</td>\n",
       "      <td>GrossProfit</td>\n",
       "      <td>NaN</td>\n",
       "      <td>NaN</td>\n",
       "      <td>[{'value': 'Gross Profit'}, {'value': '6036637...</td>\n",
       "    </tr>\n",
       "    <tr>\n",
       "      <th>2</th>\n",
       "      <td>Section</td>\n",
       "      <td>Expenses</td>\n",
       "      <td>[{'value': 'Expenses'}, {'value': ''}]</td>\n",
       "      <td>[{'Header': {'ColData': [{'value': '4010 Salar...</td>\n",
       "      <td>[{'value': 'Total Expenses'}, {'value': '55455...</td>\n",
       "    </tr>\n",
       "    <tr>\n",
       "      <th>3</th>\n",
       "      <td>Section</td>\n",
       "      <td>NetOperatingIncome</td>\n",
       "      <td>NaN</td>\n",
       "      <td>NaN</td>\n",
       "      <td>[{'value': 'Net Operating Income'}, {'value': ...</td>\n",
       "    </tr>\n",
       "    <tr>\n",
       "      <th>4</th>\n",
       "      <td>Section</td>\n",
       "      <td>OtherIncome</td>\n",
       "      <td>[{'value': 'Other Income'}, {'value': ''}]</td>\n",
       "      <td>[{'Header': {'ColData': [{'value': '5000 Insur...</td>\n",
       "      <td>[{'value': 'Total Other Income'}, {'value': '7...</td>\n",
       "    </tr>\n",
       "    <tr>\n",
       "      <th>5</th>\n",
       "      <td>Section</td>\n",
       "      <td>OtherExpenses</td>\n",
       "      <td>[{'value': 'Other Expenses'}, {'value': ''}]</td>\n",
       "      <td>[{'Header': {'ColData': [{'value': '6010 Share...</td>\n",
       "      <td>[{'value': 'Total Other Expenses'}, {'value': ...</td>\n",
       "    </tr>\n",
       "    <tr>\n",
       "      <th>6</th>\n",
       "      <td>Section</td>\n",
       "      <td>NetOtherIncome</td>\n",
       "      <td>NaN</td>\n",
       "      <td>NaN</td>\n",
       "      <td>[{'value': 'Net Other Income'}, {'value': '-17...</td>\n",
       "    </tr>\n",
       "    <tr>\n",
       "      <th>7</th>\n",
       "      <td>Section</td>\n",
       "      <td>NetIncome</td>\n",
       "      <td>NaN</td>\n",
       "      <td>NaN</td>\n",
       "      <td>[{'value': 'Net Income'}, {'value': '473846.67'}]</td>\n",
       "    </tr>\n",
       "  </tbody>\n",
       "</table>\n",
       "</div>"
      ],
      "text/plain": [
       "      type               group                                Header.ColData  \\\n",
       "0  Section              Income          [{'value': 'Income'}, {'value': ''}]   \n",
       "1  Section         GrossProfit                                           NaN   \n",
       "2  Section            Expenses        [{'value': 'Expenses'}, {'value': ''}]   \n",
       "3  Section  NetOperatingIncome                                           NaN   \n",
       "4  Section         OtherIncome    [{'value': 'Other Income'}, {'value': ''}]   \n",
       "5  Section       OtherExpenses  [{'value': 'Other Expenses'}, {'value': ''}]   \n",
       "6  Section      NetOtherIncome                                           NaN   \n",
       "7  Section           NetIncome                                           NaN   \n",
       "\n",
       "                                            Rows.Row  \\\n",
       "0  [{'Header': {'ColData': [{'value': '3000 Sunda...   \n",
       "1                                                NaN   \n",
       "2  [{'Header': {'ColData': [{'value': '4010 Salar...   \n",
       "3                                                NaN   \n",
       "4  [{'Header': {'ColData': [{'value': '5000 Insur...   \n",
       "5  [{'Header': {'ColData': [{'value': '6010 Share...   \n",
       "6                                                NaN   \n",
       "7                                                NaN   \n",
       "\n",
       "                                     Summary.ColData  \n",
       "0  [{'value': 'Total Income'}, {'value': '6036637...  \n",
       "1  [{'value': 'Gross Profit'}, {'value': '6036637...  \n",
       "2  [{'value': 'Total Expenses'}, {'value': '55455...  \n",
       "3  [{'value': 'Net Operating Income'}, {'value': ...  \n",
       "4  [{'value': 'Total Other Income'}, {'value': '7...  \n",
       "5  [{'value': 'Total Other Expenses'}, {'value': ...  \n",
       "6  [{'value': 'Net Other Income'}, {'value': '-17...  \n",
       "7  [{'value': 'Net Income'}, {'value': '473846.67'}]  "
      ]
     },
     "execution_count": 12,
     "metadata": {},
     "output_type": "execute_result"
    }
   ],
   "source": [
    "child_1 = pd.json_normalize(child_0['Rows.Row'][0])\n",
    "child_1"
   ]
  },
  {
   "cell_type": "code",
   "execution_count": 13,
   "id": "53c18c28",
   "metadata": {},
   "outputs": [
    {
     "data": {
      "text/html": [
       "<div>\n",
       "<style scoped>\n",
       "    .dataframe tbody tr th:only-of-type {\n",
       "        vertical-align: middle;\n",
       "    }\n",
       "\n",
       "    .dataframe tbody tr th {\n",
       "        vertical-align: top;\n",
       "    }\n",
       "\n",
       "    .dataframe thead th {\n",
       "        text-align: right;\n",
       "    }\n",
       "</style>\n",
       "<table border=\"1\" class=\"dataframe\">\n",
       "  <thead>\n",
       "    <tr style=\"text-align: right;\">\n",
       "      <th></th>\n",
       "      <th>value</th>\n",
       "    </tr>\n",
       "  </thead>\n",
       "  <tbody>\n",
       "    <tr>\n",
       "      <th>0</th>\n",
       "      <td>Income</td>\n",
       "    </tr>\n",
       "    <tr>\n",
       "      <th>1</th>\n",
       "      <td></td>\n",
       "    </tr>\n",
       "  </tbody>\n",
       "</table>\n",
       "</div>"
      ],
      "text/plain": [
       "    value\n",
       "0  Income\n",
       "1        "
      ]
     },
     "execution_count": 13,
     "metadata": {},
     "output_type": "execute_result"
    }
   ],
   "source": [
    "child_2_0_h = pd.json_normalize(child_1['Header.ColData'][0])\n",
    "child_2_0_h"
   ]
  },
  {
   "cell_type": "code",
   "execution_count": 14,
   "id": "40dc9f9c",
   "metadata": {},
   "outputs": [
    {
     "data": {
      "text/html": [
       "<div>\n",
       "<style scoped>\n",
       "    .dataframe tbody tr th:only-of-type {\n",
       "        vertical-align: middle;\n",
       "    }\n",
       "\n",
       "    .dataframe tbody tr th {\n",
       "        vertical-align: top;\n",
       "    }\n",
       "\n",
       "    .dataframe thead th {\n",
       "        text-align: right;\n",
       "    }\n",
       "</style>\n",
       "<table border=\"1\" class=\"dataframe\">\n",
       "  <thead>\n",
       "    <tr style=\"text-align: right;\">\n",
       "      <th></th>\n",
       "      <th>type</th>\n",
       "      <th>Header.ColData</th>\n",
       "      <th>Rows.Row</th>\n",
       "      <th>Summary.ColData</th>\n",
       "      <th>ColData</th>\n",
       "    </tr>\n",
       "  </thead>\n",
       "  <tbody>\n",
       "    <tr>\n",
       "      <th>0</th>\n",
       "      <td>Section</td>\n",
       "      <td>[{'value': '3000 Sunday and Holy Day Collectio...</td>\n",
       "      <td>[{'Header': {'ColData': [{'value': '3011 Sunda...</td>\n",
       "      <td>[{'value': 'Total 3000 Sunday and Holy Day Col...</td>\n",
       "      <td>NaN</td>\n",
       "    </tr>\n",
       "    <tr>\n",
       "      <th>1</th>\n",
       "      <td>Data</td>\n",
       "      <td>NaN</td>\n",
       "      <td>NaN</td>\n",
       "      <td>NaN</td>\n",
       "      <td>[{'value': '3020 Christmas Collection', 'id': ...</td>\n",
       "    </tr>\n",
       "    <tr>\n",
       "      <th>2</th>\n",
       "      <td>Data</td>\n",
       "      <td>NaN</td>\n",
       "      <td>NaN</td>\n",
       "      <td>NaN</td>\n",
       "      <td>[{'value': '3030 Easter Collection', 'id': '11...</td>\n",
       "    </tr>\n",
       "    <tr>\n",
       "      <th>3</th>\n",
       "      <td>Section</td>\n",
       "      <td>[{'value': '3040 Other Collections', 'id': '11...</td>\n",
       "      <td>[{'ColData': [{'value': '3042 Flowers Collecti...</td>\n",
       "      <td>[{'value': 'Total 3040 Other Collections'}, {'...</td>\n",
       "      <td>NaN</td>\n",
       "    </tr>\n",
       "    <tr>\n",
       "      <th>4</th>\n",
       "      <td>Section</td>\n",
       "      <td>[{'value': '3100 Tuition', 'id': '392'}, {'val...</td>\n",
       "      <td>[{'ColData': [{'value': '3101 Tuition - Curren...</td>\n",
       "      <td>[{'value': 'Total 3100 Tuition'}, {'value': '3...</td>\n",
       "      <td>NaN</td>\n",
       "    </tr>\n",
       "    <tr>\n",
       "      <th>5</th>\n",
       "      <td>Section</td>\n",
       "      <td>[{'value': '3110 Fees', 'id': '28'}, {'value':...</td>\n",
       "      <td>[{'ColData': [{'value': '3111 Registration Fee...</td>\n",
       "      <td>[{'value': 'Total 3110 Fees'}, {'value': '4753...</td>\n",
       "      <td>NaN</td>\n",
       "    </tr>\n",
       "    <tr>\n",
       "      <th>6</th>\n",
       "      <td>Section</td>\n",
       "      <td>[{'value': '3300 Food Services', 'id': '36'}, ...</td>\n",
       "      <td>[{'ColData': [{'value': '3301 School Meal Prog...</td>\n",
       "      <td>[{'value': 'Total 3300 Food Services'}, {'valu...</td>\n",
       "      <td>NaN</td>\n",
       "    </tr>\n",
       "    <tr>\n",
       "      <th>7</th>\n",
       "      <td>Section</td>\n",
       "      <td>[{'value': '3350 Lease and/or Rental Income', ...</td>\n",
       "      <td>[{'ColData': [{'value': '3351 Facility Lease',...</td>\n",
       "      <td>[{'value': 'Total 3350 Lease and/or Rental Inc...</td>\n",
       "      <td>NaN</td>\n",
       "    </tr>\n",
       "    <tr>\n",
       "      <th>8</th>\n",
       "      <td>Section</td>\n",
       "      <td>[{'value': '3400 Outside Funding Sources', 'id...</td>\n",
       "      <td>[{'Header': {'ColData': [{'value': '3407 Other...</td>\n",
       "      <td>[{'value': 'Total 3400 Outside Funding Sources...</td>\n",
       "      <td>NaN</td>\n",
       "    </tr>\n",
       "    <tr>\n",
       "      <th>9</th>\n",
       "      <td>Section</td>\n",
       "      <td>[{'value': '3450 Fund Raising Net Income', 'id...</td>\n",
       "      <td>[{'Header': {'ColData': [{'value': '3461 St. J...</td>\n",
       "      <td>[{'value': 'Total 3450 Fund Raising Net Income...</td>\n",
       "      <td>NaN</td>\n",
       "    </tr>\n",
       "    <tr>\n",
       "      <th>10</th>\n",
       "      <td>Section</td>\n",
       "      <td>[{'value': '3500 Interest &amp; Investment Income'...</td>\n",
       "      <td>[{'ColData': [{'value': '3501 Interest-Arch Re...</td>\n",
       "      <td>[{'value': 'Total 3500 Interest &amp; Investment I...</td>\n",
       "      <td>NaN</td>\n",
       "    </tr>\n",
       "    <tr>\n",
       "      <th>11</th>\n",
       "      <td>Section</td>\n",
       "      <td>[{'value': '3600 Auxiliary Groups', 'id': '149...</td>\n",
       "      <td>[{'Header': {'ColData': [{'value': '3603 St Fr...</td>\n",
       "      <td>[{'value': 'Total 3600 Auxiliary Groups'}, {'v...</td>\n",
       "      <td>NaN</td>\n",
       "    </tr>\n",
       "    <tr>\n",
       "      <th>12</th>\n",
       "      <td>Section</td>\n",
       "      <td>[{'value': '3700 Miscellaneous Income', 'id': ...</td>\n",
       "      <td>[{'Header': {'ColData': [{'value': '3701 Stole...</td>\n",
       "      <td>[{'value': 'Total 3700 Miscellaneous Income'},...</td>\n",
       "      <td>NaN</td>\n",
       "    </tr>\n",
       "  </tbody>\n",
       "</table>\n",
       "</div>"
      ],
      "text/plain": [
       "       type                                     Header.ColData  \\\n",
       "0   Section  [{'value': '3000 Sunday and Holy Day Collectio...   \n",
       "1      Data                                                NaN   \n",
       "2      Data                                                NaN   \n",
       "3   Section  [{'value': '3040 Other Collections', 'id': '11...   \n",
       "4   Section  [{'value': '3100 Tuition', 'id': '392'}, {'val...   \n",
       "5   Section  [{'value': '3110 Fees', 'id': '28'}, {'value':...   \n",
       "6   Section  [{'value': '3300 Food Services', 'id': '36'}, ...   \n",
       "7   Section  [{'value': '3350 Lease and/or Rental Income', ...   \n",
       "8   Section  [{'value': '3400 Outside Funding Sources', 'id...   \n",
       "9   Section  [{'value': '3450 Fund Raising Net Income', 'id...   \n",
       "10  Section  [{'value': '3500 Interest & Investment Income'...   \n",
       "11  Section  [{'value': '3600 Auxiliary Groups', 'id': '149...   \n",
       "12  Section  [{'value': '3700 Miscellaneous Income', 'id': ...   \n",
       "\n",
       "                                             Rows.Row  \\\n",
       "0   [{'Header': {'ColData': [{'value': '3011 Sunda...   \n",
       "1                                                 NaN   \n",
       "2                                                 NaN   \n",
       "3   [{'ColData': [{'value': '3042 Flowers Collecti...   \n",
       "4   [{'ColData': [{'value': '3101 Tuition - Curren...   \n",
       "5   [{'ColData': [{'value': '3111 Registration Fee...   \n",
       "6   [{'ColData': [{'value': '3301 School Meal Prog...   \n",
       "7   [{'ColData': [{'value': '3351 Facility Lease',...   \n",
       "8   [{'Header': {'ColData': [{'value': '3407 Other...   \n",
       "9   [{'Header': {'ColData': [{'value': '3461 St. J...   \n",
       "10  [{'ColData': [{'value': '3501 Interest-Arch Re...   \n",
       "11  [{'Header': {'ColData': [{'value': '3603 St Fr...   \n",
       "12  [{'Header': {'ColData': [{'value': '3701 Stole...   \n",
       "\n",
       "                                      Summary.ColData  \\\n",
       "0   [{'value': 'Total 3000 Sunday and Holy Day Col...   \n",
       "1                                                 NaN   \n",
       "2                                                 NaN   \n",
       "3   [{'value': 'Total 3040 Other Collections'}, {'...   \n",
       "4   [{'value': 'Total 3100 Tuition'}, {'value': '3...   \n",
       "5   [{'value': 'Total 3110 Fees'}, {'value': '4753...   \n",
       "6   [{'value': 'Total 3300 Food Services'}, {'valu...   \n",
       "7   [{'value': 'Total 3350 Lease and/or Rental Inc...   \n",
       "8   [{'value': 'Total 3400 Outside Funding Sources...   \n",
       "9   [{'value': 'Total 3450 Fund Raising Net Income...   \n",
       "10  [{'value': 'Total 3500 Interest & Investment I...   \n",
       "11  [{'value': 'Total 3600 Auxiliary Groups'}, {'v...   \n",
       "12  [{'value': 'Total 3700 Miscellaneous Income'},...   \n",
       "\n",
       "                                              ColData  \n",
       "0                                                 NaN  \n",
       "1   [{'value': '3020 Christmas Collection', 'id': ...  \n",
       "2   [{'value': '3030 Easter Collection', 'id': '11...  \n",
       "3                                                 NaN  \n",
       "4                                                 NaN  \n",
       "5                                                 NaN  \n",
       "6                                                 NaN  \n",
       "7                                                 NaN  \n",
       "8                                                 NaN  \n",
       "9                                                 NaN  \n",
       "10                                                NaN  \n",
       "11                                                NaN  \n",
       "12                                                NaN  "
      ]
     },
     "execution_count": 14,
     "metadata": {},
     "output_type": "execute_result"
    }
   ],
   "source": [
    "child_2_0_r = pd.json_normalize(child_1['Rows.Row'][0])\n",
    "child_2_0_r"
   ]
  },
  {
   "cell_type": "code",
   "execution_count": 43,
   "id": "596271f7",
   "metadata": {},
   "outputs": [
    {
     "data": {
      "text/plain": [
       "pandas.core.series.Series"
      ]
     },
     "execution_count": 43,
     "metadata": {},
     "output_type": "execute_result"
    }
   ],
   "source": [
    "child_3_1_c = pd.json_normalize(child_2_0_r['ColData'][1])\n",
    "child_3_1_c\n",
    "type(child_3_1_c)"
   ]
  },
  {
   "cell_type": "code",
   "execution_count": 19,
   "id": "3765e2cb",
   "metadata": {},
   "outputs": [
    {
     "data": {
      "text/html": [
       "<div>\n",
       "<style scoped>\n",
       "    .dataframe tbody tr th:only-of-type {\n",
       "        vertical-align: middle;\n",
       "    }\n",
       "\n",
       "    .dataframe tbody tr th {\n",
       "        vertical-align: top;\n",
       "    }\n",
       "\n",
       "    .dataframe thead th {\n",
       "        text-align: right;\n",
       "    }\n",
       "</style>\n",
       "<table border=\"1\" class=\"dataframe\">\n",
       "  <thead>\n",
       "    <tr style=\"text-align: right;\">\n",
       "      <th></th>\n",
       "      <th>value</th>\n",
       "      <th>id</th>\n",
       "    </tr>\n",
       "  </thead>\n",
       "  <tbody>\n",
       "    <tr>\n",
       "      <th>0</th>\n",
       "      <td>3000 Sunday and Holy Day Collections</td>\n",
       "      <td>107</td>\n",
       "    </tr>\n",
       "    <tr>\n",
       "      <th>1</th>\n",
       "      <td>225.00</td>\n",
       "      <td>NaN</td>\n",
       "    </tr>\n",
       "  </tbody>\n",
       "</table>\n",
       "</div>"
      ],
      "text/plain": [
       "                                  value   id\n",
       "0  3000 Sunday and Holy Day Collections  107\n",
       "1                                225.00  NaN"
      ]
     },
     "execution_count": 19,
     "metadata": {},
     "output_type": "execute_result"
    }
   ],
   "source": [
    "child_3_0_h = pd.json_normalize(child_2_0_r['Header.ColData'][0])\n",
    "child_3_0_h"
   ]
  },
  {
   "cell_type": "code",
   "execution_count": 26,
   "id": "41330881",
   "metadata": {},
   "outputs": [
    {
     "data": {
      "text/html": [
       "<div>\n",
       "<style scoped>\n",
       "    .dataframe tbody tr th:only-of-type {\n",
       "        vertical-align: middle;\n",
       "    }\n",
       "\n",
       "    .dataframe tbody tr th {\n",
       "        vertical-align: top;\n",
       "    }\n",
       "\n",
       "    .dataframe thead th {\n",
       "        text-align: right;\n",
       "    }\n",
       "</style>\n",
       "<table border=\"1\" class=\"dataframe\">\n",
       "  <thead>\n",
       "    <tr style=\"text-align: right;\">\n",
       "      <th></th>\n",
       "      <th>type</th>\n",
       "      <th>Header.ColData</th>\n",
       "      <th>Rows.Row</th>\n",
       "      <th>Summary.ColData</th>\n",
       "    </tr>\n",
       "  </thead>\n",
       "  <tbody>\n",
       "    <tr>\n",
       "      <th>0</th>\n",
       "      <td>Section</td>\n",
       "      <td>[{'value': '3011 Sunday Collection', 'id': '10...</td>\n",
       "      <td>[{'ColData': [{'value': '3012 Sunday Collectio...</td>\n",
       "      <td>[{'value': 'Total 3011 Sunday Collection'}, {'...</td>\n",
       "    </tr>\n",
       "    <tr>\n",
       "      <th>1</th>\n",
       "      <td>Section</td>\n",
       "      <td>[{'value': '3015 Holy Day Collection', 'id': '...</td>\n",
       "      <td>[{'ColData': [{'value': '3016 Holy Day Collect...</td>\n",
       "      <td>[{'value': 'Total 3015 Holy Day Collection'}, ...</td>\n",
       "    </tr>\n",
       "  </tbody>\n",
       "</table>\n",
       "</div>"
      ],
      "text/plain": [
       "      type                                     Header.ColData  \\\n",
       "0  Section  [{'value': '3011 Sunday Collection', 'id': '10...   \n",
       "1  Section  [{'value': '3015 Holy Day Collection', 'id': '...   \n",
       "\n",
       "                                            Rows.Row  \\\n",
       "0  [{'ColData': [{'value': '3012 Sunday Collectio...   \n",
       "1  [{'ColData': [{'value': '3016 Holy Day Collect...   \n",
       "\n",
       "                                     Summary.ColData  \n",
       "0  [{'value': 'Total 3011 Sunday Collection'}, {'...  \n",
       "1  [{'value': 'Total 3015 Holy Day Collection'}, ...  "
      ]
     },
     "execution_count": 26,
     "metadata": {},
     "output_type": "execute_result"
    }
   ],
   "source": [
    "child_3_0_r = pd.json_normalize(child_2_0_r['Rows.Row'][0])\n",
    "child_3_0_r"
   ]
  },
  {
   "cell_type": "code",
   "execution_count": 28,
   "id": "5c18f865",
   "metadata": {},
   "outputs": [
    {
     "data": {
      "text/html": [
       "<div>\n",
       "<style scoped>\n",
       "    .dataframe tbody tr th:only-of-type {\n",
       "        vertical-align: middle;\n",
       "    }\n",
       "\n",
       "    .dataframe tbody tr th {\n",
       "        vertical-align: top;\n",
       "    }\n",
       "\n",
       "    .dataframe thead th {\n",
       "        text-align: right;\n",
       "    }\n",
       "</style>\n",
       "<table border=\"1\" class=\"dataframe\">\n",
       "  <thead>\n",
       "    <tr style=\"text-align: right;\">\n",
       "      <th></th>\n",
       "      <th>value</th>\n",
       "      <th>id</th>\n",
       "    </tr>\n",
       "  </thead>\n",
       "  <tbody>\n",
       "    <tr>\n",
       "      <th>0</th>\n",
       "      <td>3011 Sunday Collection</td>\n",
       "      <td>108</td>\n",
       "    </tr>\n",
       "    <tr>\n",
       "      <th>1</th>\n",
       "      <td></td>\n",
       "      <td>NaN</td>\n",
       "    </tr>\n",
       "  </tbody>\n",
       "</table>\n",
       "</div>"
      ],
      "text/plain": [
       "                    value   id\n",
       "0  3011 Sunday Collection  108\n",
       "1                          NaN"
      ]
     },
     "execution_count": 28,
     "metadata": {},
     "output_type": "execute_result"
    }
   ],
   "source": [
    "child_4_0_h = pd.json_normalize(child_3_0_r['Header.ColData'][0])\n",
    "child_4_0_h"
   ]
  },
  {
   "cell_type": "code",
   "execution_count": 36,
   "id": "6fd4bc61",
   "metadata": {},
   "outputs": [
    {
     "data": {
      "text/plain": [
       "str"
      ]
     },
     "execution_count": 36,
     "metadata": {},
     "output_type": "execute_result"
    }
   ],
   "source": [
    "child_4_0_h.iloc[1]['value']\n",
    "type(child_4_0_h.iloc[1]['value'])"
   ]
  },
  {
   "cell_type": "code",
   "execution_count": null,
   "id": "acceb2d4",
   "metadata": {},
   "outputs": [],
   "source": [
    "print(child_3_0_h.iloc[0]['value'])\n",
    "type(child_3_0_h.iloc[0]['value'])"
   ]
  },
  {
   "cell_type": "code",
   "execution_count": 20,
   "id": "da4cf643",
   "metadata": {},
   "outputs": [],
   "source": [
    "row = child_3_0_h.iloc[0]"
   ]
  },
  {
   "cell_type": "code",
   "execution_count": 21,
   "id": "6a5373d1",
   "metadata": {},
   "outputs": [
    {
     "data": {
      "text/plain": [
       "'3000 Sunday and Holy Day Collections'"
      ]
     },
     "execution_count": 21,
     "metadata": {},
     "output_type": "execute_result"
    }
   ],
   "source": [
    "row['value']"
   ]
  },
  {
   "cell_type": "code",
   "execution_count": null,
   "id": "4d8852f1",
   "metadata": {},
   "outputs": [],
   "source": [
    "type(row['value'])"
   ]
  },
  {
   "cell_type": "code",
   "execution_count": 22,
   "id": "8145c43b",
   "metadata": {},
   "outputs": [
    {
     "data": {
      "text/plain": [
       "str"
      ]
     },
     "execution_count": 22,
     "metadata": {},
     "output_type": "execute_result"
    }
   ],
   "source": [
    "type(child_3_0_h.iloc[1]['value'])"
   ]
  },
  {
   "cell_type": "code",
   "execution_count": 38,
   "id": "58d9d535",
   "metadata": {},
   "outputs": [
    {
     "ename": "ValueError",
     "evalue": "dictionary update sequence element #0 has length 1; 2 is required",
     "output_type": "error",
     "traceback": [
      "\u001b[1;31m---------------------------------------------------------------------------\u001b[0m",
      "\u001b[1;31mValueError\u001b[0m                                Traceback (most recent call last)",
      "\u001b[1;32m<ipython-input-38-7448e21c39b3>\u001b[0m in \u001b[0;36m<module>\u001b[1;34m\u001b[0m\n\u001b[0;32m      3\u001b[0m \u001b[0macc_val\u001b[0m  \u001b[1;33m=\u001b[0m \u001b[1;34m\"row_norm['value'][1]\"\u001b[0m\u001b[1;33m\u001b[0m\u001b[1;33m\u001b[0m\u001b[0m\n\u001b[0;32m      4\u001b[0m \u001b[1;33m\u001b[0m\u001b[0m\n\u001b[1;32m----> 5\u001b[1;33m \u001b[0mdict\u001b[0m\u001b[1;33m(\u001b[0m\u001b[0macc_name\u001b[0m\u001b[1;33m)\u001b[0m\u001b[1;33m\u001b[0m\u001b[1;33m\u001b[0m\u001b[0m\n\u001b[0m",
      "\u001b[1;31mValueError\u001b[0m: dictionary update sequence element #0 has length 1; 2 is required"
     ]
    }
   ],
   "source": [
    "acc_name = \"row_norm['value'][0]\"\n",
    "acc_id   = \"row_norm['id'][0]\"\n",
    "acc_val  = \"row_norm['value'][1]\"\n",
    "\n",
    "dict(acc_name)"
   ]
  },
  {
   "cell_type": "markdown",
   "id": "6128754f",
   "metadata": {},
   "source": [
    "if you find another level of nesting, just concat what you just did with a bigger list"
   ]
  }
 ],
 "metadata": {
  "kernelspec": {
   "display_name": "Python 3",
   "language": "python",
   "name": "python3"
  },
  "language_info": {
   "codemirror_mode": {
    "name": "ipython",
    "version": 3
   },
   "file_extension": ".py",
   "mimetype": "text/x-python",
   "name": "python",
   "nbconvert_exporter": "python",
   "pygments_lexer": "ipython3",
   "version": "3.8.8"
  }
 },
 "nbformat": 4,
 "nbformat_minor": 5
}
