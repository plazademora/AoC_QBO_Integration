{
 "cells": [
  {
   "cell_type": "markdown",
   "source": [
    "# Final ProfitAndLoss Report Parsing Scripts   \r\n",
    "*Edited 7 July 2021*   \r\n",
    "*Paul Cassidy*"
   ],
   "metadata": {}
  },
  {
   "cell_type": "markdown",
   "source": [
    "## Import libraries and raw data file"
   ],
   "metadata": {}
  },
  {
   "cell_type": "code",
   "execution_count": 4,
   "source": [
    "import pandas as pd\r\n",
    "import json\r\n",
    "import re\r\n",
    "\r\n",
    "transaction_list_path = \"RawData\\\\TransactionListReal.json\"\r\n",
    "general_ledger_path   = \"RawData\\\\GeneralLedgerReal.json\"\r\n",
    "balance_sheet_path    = \"RawData\\\\BalanceSheetReal.json\"\r\n",
    "profit_and_loss_path  = \"RawData\\\\ProfitAndLossReal.json\"\r\n",
    "\r\n",
    "with open(transaction_list_path) as f:\r\n",
    "    transaction_list = json.load(f)\r\n",
    "\r\n",
    "with open(general_ledger_path) as f:\r\n",
    "    general_ledger = json.load(f)\r\n",
    "\r\n",
    "with open(balance_sheet_path) as f:\r\n",
    "    balance_sheet = json.load(f)\r\n",
    "\r\n",
    "with open(profit_and_loss_path) as f:\r\n",
    "    profit_and_loss = json.load(f)"
   ],
   "outputs": [],
   "metadata": {}
  },
  {
   "cell_type": "markdown",
   "source": [
    "## Define parse_record function to extract individual account Name, ID, and Value "
   ],
   "metadata": {}
  },
  {
   "cell_type": "markdown",
   "source": [
    "### *Static function, only for reports like ProfitAndLoss with one account per 'ColData' object*"
   ],
   "metadata": {}
  },
  {
   "cell_type": "code",
   "execution_count": 5,
   "source": [
    "def parse_record_static(data):\r\n",
    "    acc_name = data['value'][0]\r\n",
    "    acc_id   = data['id'][0]\r\n",
    "    acc_val  = data['value'][1]\r\n",
    "    if not acc_val:\r\n",
    "        acc_val = \"NA\"\r\n",
    "    return {'AccountName'  : acc_name,\r\n",
    "            'AccountID'    : acc_id,\r\n",
    "            'AccountValue' : acc_val}"
   ],
   "outputs": [],
   "metadata": {}
  },
  {
   "cell_type": "markdown",
   "source": [
    "### *Dynamic function, for reports like TransactionList with multiple accounts/transactions per 'ColData' object*"
   ],
   "metadata": {}
  },
  {
   "cell_type": "code",
   "execution_count": 6,
   "source": [
    "def parse_record_dyno(data):\r\n",
    "    for row in range(data.shape[0]):\r\n",
    "        while row < data.shape[0]:\r\n",
    "            acc_name = data['value'][row]\r\n",
    "            acc_id   = data['id'][row]\r\n",
    "            acc_val  = data['value'][row + 1]\r\n",
    "            if not acc_val:\r\n",
    "                acc_val = \"NA\"\r\n",
    "            return {'AccountName'  : acc_name,\r\n",
    "                    'AccountID'    : acc_id,\r\n",
    "                    'AccountValue' : acc_val}"
   ],
   "outputs": [],
   "metadata": {}
  },
  {
   "cell_type": "markdown",
   "source": [
    "## Define JSON file crawler"
   ],
   "metadata": {}
  },
  {
   "cell_type": "code",
   "execution_count": 7,
   "source": [
    "def json_crawler(data):\r\n",
    "    # If data is dictionary returned by json.load(), then flatten it to initial pandas data frame\r\n",
    "    if isinstance(data, dict):\r\n",
    "        data = pd.json_normalize(data)\r\n",
    "        return_value = json_crawler(data)\r\n",
    "        return return_value \r\n",
    "    \r\n",
    "    # Crawl through JSON file, normalizing by different keys to find account data and save to lst\r\n",
    "    else:\r\n",
    "        # Initialize list to hold account data objects\r\n",
    "        lst = []\r\n",
    "        for row in range(data.shape[0]):\r\n",
    "            # Normalize by 'ColData'\r\n",
    "            try:\r\n",
    "                record_data = pd.json_normalize(data['ColData'][row])\r\n",
    "                lst.append(parse_record_static(record_data))\r\n",
    "            except:\r\n",
    "                pass\r\n",
    "            # Normalize by 'Header.ColData'\r\n",
    "            try:\r\n",
    "                record_data = pd.json_normalize(data['Header.ColData'][row])\r\n",
    "                lst.append(parse_record_static(record_data))\r\n",
    "            except:\r\n",
    "                pass\r\n",
    "            # Normalize by 'Rows.Row'\r\n",
    "            try:\r\n",
    "                row_data = pd.json_normalize(data['Rows.Row'][row])\r\n",
    "                # Capture lst and return value before recursive function call\r\n",
    "                return_value = json_crawler(row_data)\r\n",
    "                lst = lst + return_value\r\n",
    "            except:\r\n",
    "                pass\r\n",
    "        return lst"
   ],
   "outputs": [],
   "metadata": {}
  },
  {
   "cell_type": "markdown",
   "source": [
    "## Define function to export to csv"
   ],
   "metadata": {}
  },
  {
   "cell_type": "code",
   "execution_count": 8,
   "source": [
    "def list_df_csv(lst, prefix, filename):\r\n",
    "    df = pd.DataFrame(lst)\r\n",
    "    df.to_csv(f\"{prefix}/{filename}.csv\", index = False)"
   ],
   "outputs": [],
   "metadata": {}
  },
  {
   "cell_type": "markdown",
   "source": [
    "## Test"
   ],
   "metadata": {}
  },
  {
   "cell_type": "code",
   "execution_count": 9,
   "source": [
    "list_df_csv(json_crawler(profit_and_loss), \"Output\", \"palrealtest\")"
   ],
   "outputs": [],
   "metadata": {}
  }
 ],
 "metadata": {
  "interpreter": {
   "hash": "4599f1440aafe3bfa5b5e1766045548f2e591843fb04c854c39d505055e5beae"
  },
  "kernelspec": {
   "display_name": "Python 3.8.8 64-bit ('base': conda)",
   "name": "python3"
  },
  "language_info": {
   "codemirror_mode": {
    "name": "ipython",
    "version": 3
   },
   "file_extension": ".py",
   "mimetype": "text/x-python",
   "name": "python",
   "nbconvert_exporter": "python",
   "pygments_lexer": "ipython3",
   "version": "3.8.8"
  },
  "orig_nbformat": 4
 },
 "nbformat": 4,
 "nbformat_minor": 2
}